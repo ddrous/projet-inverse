{
  "nbformat": 4,
  "nbformat_minor": 0,
  "metadata": {
    "colab": {
      "name": "analyse_des_donnees.ipynb",
      "provenance": [],
      "collapsed_sections": []
    },
    "kernelspec": {
      "name": "python3",
      "display_name": "Python 3"
    }
  },
  "cells": [
    {
      "cell_type": "markdown",
      "metadata": {
        "id": "iNXZiUPPFgj7",
        "colab_type": "text"
      },
      "source": [
        "# Analyse des donnees"
      ]
    },
    {
      "cell_type": "code",
      "metadata": {
        "id": "HFYPlpRqF5tK",
        "colab_type": "code",
        "colab": {
          "base_uri": "https://localhost:8080/",
          "height": 323
        },
        "outputId": "6ccf64ad-eea9-40f3-f97e-3a3bedef12bc"
      },
      "source": [
        "\"to load data from github (update it if we have to)\"\n",
        "import os\n",
        "if not os.path.exists(\"assets\"):\n",
        "    print(\"Data wansn't here. Let's download it!\")\n",
        "    !git clone https://github.com/desmond-rn/assets.git\n",
        "else:\n",
        "    print(\"Data already here. Let's update it!\")\n",
        "    %cd assets\n",
        "    # %rm -rf assets\n",
        "    !git pull https://github.com/desmond-rn/assets.git\n",
        "    %cd ..\n",
        "\n",
        "print(\"\\n\")\n",
        "!ls assets/dataframes/inverse"
      ],
      "execution_count": 105,
      "outputs": [
        {
          "output_type": "stream",
          "text": [
            "Data already here. Let's update it!\n",
            "/content/assets\n",
            "remote: Enumerating objects: 11, done.\u001b[K\n",
            "remote: Counting objects: 100% (11/11), done.\u001b[K\n",
            "remote: Compressing objects: 100% (6/6), done.\u001b[K\n",
            "remote: Total 6 (delta 0), reused 6 (delta 0), pack-reused 0\u001b[K\n",
            "Unpacking objects: 100% (6/6), done.\n",
            "From https://github.com/desmond-rn/assets\n",
            " * branch            HEAD       -> FETCH_HEAD\n",
            "Updating dd1c5c3..930b8fa\n",
            "Fast-forward\n",
            " dataframes/inverse/df_spatial.csv  | 90 \u001b[32m++++++++++++++++++++++++++++++++++++++\u001b[m\n",
            " dataframes/inverse/df_temporal.csv | 90 \u001b[32m++++++++++++++++++++++++++++++++++++++\u001b[m\n",
            " 2 files changed, 180 insertions(+)\n",
            "/content\n",
            "\n",
            "\n",
            "df_spatial.csv\tdf_temporal.csv\n"
          ],
          "name": "stdout"
        }
      ]
    },
    {
      "cell_type": "code",
      "metadata": {
        "id": "JtAq0O5XGELH",
        "colab_type": "code",
        "colab": {}
      },
      "source": [
        "%reset -f\n",
        "\n",
        "import matplotlib.pyplot as plt\n",
        "import numpy as np\n",
        "import pandas as pd\n",
        "import seaborn as sb\n",
        "import ast            # Pour convertir les chaines de carateres en type Python\n",
        "import warnings       # Pour eviter de souvent afficher des messages d'erreurs encombrants"
      ],
      "execution_count": 0,
      "outputs": []
    },
    {
      "cell_type": "markdown",
      "metadata": {
        "id": "qxCUfRNWGGvi",
        "colab_type": "text"
      },
      "source": [
        "**Obectif du projet**\n",
        "- Analyse des donnees"
      ]
    },
    {
      "cell_type": "markdown",
      "metadata": {
        "id": "ntKfcad2GNHp",
        "colab_type": "text"
      },
      "source": [
        "## I - RETRAITEMENT DES DONNESS"
      ]
    },
    {
      "cell_type": "markdown",
      "metadata": {
        "id": "OPf0GPetGlbC",
        "colab_type": "text"
      },
      "source": [
        "## Chargeons les donnees"
      ]
    },
    {
      "cell_type": "markdown",
      "metadata": {
        "id": "ni2-GBVYYt0l",
        "colab_type": "text"
      },
      "source": [
        "### En espace"
      ]
    },
    {
      "cell_type": "code",
      "metadata": {
        "id": "OQtucmrCGo85",
        "colab_type": "code",
        "colab": {
          "base_uri": "https://localhost:8080/",
          "height": 355
        },
        "outputId": "cbcb0db9-85fd-4cf2-8554-8fe2f36f39cc"
      },
      "source": [
        "types = {'x_min':float, 'x_max':float, 'N':int, 'c':float, 'a':float, 'C_v':float, 'CFL':float, 'epsilon':float, 't_final':float, 'rho_expr':str, 'sigma_a_expr':str, 'sigma_c_expr':str, 'E_x_0_expr':str, 'F_x_0_expr':str, 'T_x_0_expr':str, 'dt':float, 'time_steps':int, 'x':str, 'rho':str, 'sigma_a':str, 'sigma_c':str, 'E_init':str, 'E_final':str, 'F_init':str, 'F_final':str, 'T_init':str, 'T_final':str}\n",
        "df_space = pd.read_csv(\"assets/dataframes/inverse/df_spatial.csv\", thousands=',', dtype=types)\n",
        "\n",
        "df_space.head(1)      ### rho_expr a des problemes"
      ],
      "execution_count": 107,
      "outputs": [
        {
          "output_type": "execute_result",
          "data": {
            "text/html": [
              "<div>\n",
              "<style scoped>\n",
              "    .dataframe tbody tr th:only-of-type {\n",
              "        vertical-align: middle;\n",
              "    }\n",
              "\n",
              "    .dataframe tbody tr th {\n",
              "        vertical-align: top;\n",
              "    }\n",
              "\n",
              "    .dataframe thead th {\n",
              "        text-align: right;\n",
              "    }\n",
              "</style>\n",
              "<table border=\"1\" class=\"dataframe\">\n",
              "  <thead>\n",
              "    <tr style=\"text-align: right;\">\n",
              "      <th></th>\n",
              "      <th>x_min</th>\n",
              "      <th>x_max</th>\n",
              "      <th>N</th>\n",
              "      <th>c</th>\n",
              "      <th>a</th>\n",
              "      <th>C_v</th>\n",
              "      <th>CFL</th>\n",
              "      <th>epsilon</th>\n",
              "      <th>t_final</th>\n",
              "      <th>rho_expr</th>\n",
              "      <th>sigma_a_expr</th>\n",
              "      <th>sigma_c_expr</th>\n",
              "      <th>E_x_0_expr</th>\n",
              "      <th>F_x_0_expr</th>\n",
              "      <th>T_x_0_expr</th>\n",
              "      <th>dt</th>\n",
              "      <th>time_steps</th>\n",
              "      <th>x</th>\n",
              "      <th>rho</th>\n",
              "      <th>sigma_a</th>\n",
              "      <th>sigma_c</th>\n",
              "      <th>E_init</th>\n",
              "      <th>E_final</th>\n",
              "      <th>F_init</th>\n",
              "      <th>F_final</th>\n",
              "      <th>T_init</th>\n",
              "      <th>T_final</th>\n",
              "    </tr>\n",
              "  </thead>\n",
              "  <tbody>\n",
              "    <tr>\n",
              "      <th>0</th>\n",
              "      <td>0.0</td>\n",
              "      <td>10.0</td>\n",
              "      <td>100</td>\n",
              "      <td>1.0</td>\n",
              "      <td>1.0</td>\n",
              "      <td>1.0</td>\n",
              "      <td>0.99</td>\n",
              "      <td>0.0001</td>\n",
              "      <td>4.0</td>\n",
              "      <td>0</td>\n",
              "      <td>0</td>\n",
              "      <td>0</td>\n",
              "      <td>exp(-((x-5)^2)/(2*(0.5^2)))</td>\n",
              "      <td>0</td>\n",
              "      <td>0.25</td>\n",
              "      <td>0.099</td>\n",
              "      <td>41</td>\n",
              "      <td>[0.05, 0.15, 0.25, 0.35, 0.45, 0.55, 0.65, 0.7...</td>\n",
              "      <td>[0, 0, 0, 0, 0, 0, 0, 0, 0, 0, 0, 0, 0, 0, 0, ...</td>\n",
              "      <td>[0, 0, 0, 0, 0, 0, 0, 0, 0, 0, 0, 0, 0, 0, 0, ...</td>\n",
              "      <td>[0, 0, 0, 0, 0, 0, 0, 0, 0, 0, 0, 0, 0, 0, 0, ...</td>\n",
              "      <td>[5.21674e-22, 3.70353e-21, 2.52616e-20, 1.6555...</td>\n",
              "      <td>[0.10395, 0.14482, 0.193937, 0.249649, 0.30892...</td>\n",
              "      <td>[0, 0, 0, 0, 0, 0, 0, 0, 0, 0, 0, 0, 0, 0, 0, ...</td>\n",
              "      <td>[-0.10395, -0.14482, -0.193937, -0.249649, -0....</td>\n",
              "      <td>[0.25, 0.25, 0.25, 0.25, 0.25, 0.25, 0.25, 0.2...</td>\n",
              "      <td>[0.25, 0.25, 0.25, 0.25, 0.25, 0.25, 0.25, 0.2...</td>\n",
              "    </tr>\n",
              "  </tbody>\n",
              "</table>\n",
              "</div>"
            ],
            "text/plain": [
              "   x_min  ...                                            T_final\n",
              "0    0.0  ...  [0.25, 0.25, 0.25, 0.25, 0.25, 0.25, 0.25, 0.2...\n",
              "\n",
              "[1 rows x 27 columns]"
            ]
          },
          "metadata": {
            "tags": []
          },
          "execution_count": 107
        }
      ]
    },
    {
      "cell_type": "code",
      "metadata": {
        "id": "bdCY-yWpbwMt",
        "colab_type": "code",
        "colab": {
          "base_uri": "https://localhost:8080/",
          "height": 493
        },
        "outputId": "55476db8-1f53-4a11-cdd8-291b549d0b55"
      },
      "source": [
        "df_space.dtypes"
      ],
      "execution_count": 108,
      "outputs": [
        {
          "output_type": "execute_result",
          "data": {
            "text/plain": [
              "x_min           float64\n",
              "x_max           float64\n",
              "N                 int64\n",
              "c               float64\n",
              "a               float64\n",
              "C_v             float64\n",
              "CFL             float64\n",
              "epsilon         float64\n",
              "t_final         float64\n",
              "rho_expr         object\n",
              "sigma_a_expr     object\n",
              "sigma_c_expr     object\n",
              "E_x_0_expr       object\n",
              "F_x_0_expr       object\n",
              "T_x_0_expr       object\n",
              "dt              float64\n",
              "time_steps        int64\n",
              "x                object\n",
              "rho              object\n",
              "sigma_a          object\n",
              "sigma_c          object\n",
              "E_init           object\n",
              "E_final          object\n",
              "F_init           object\n",
              "F_final          object\n",
              "T_init           object\n",
              "T_final          object\n",
              "dtype: object"
            ]
          },
          "metadata": {
            "tags": []
          },
          "execution_count": 108
        }
      ]
    },
    {
      "cell_type": "code",
      "metadata": {
        "id": "aBz1LhB9X-69",
        "colab_type": "code",
        "colab": {
          "base_uri": "https://localhost:8080/",
          "height": 34
        },
        "outputId": "29c6eb55-5137-4c12-c973-cf0705571722"
      },
      "source": [
        "type(df_space.loc[0, 'rho_expr'])"
      ],
      "execution_count": 109,
      "outputs": [
        {
          "output_type": "execute_result",
          "data": {
            "text/plain": [
              "str"
            ]
          },
          "metadata": {
            "tags": []
          },
          "execution_count": 109
        }
      ]
    },
    {
      "cell_type": "markdown",
      "metadata": {
        "id": "9PNwLRX_YxIh",
        "colab_type": "text"
      },
      "source": [
        "### En temps"
      ]
    },
    {
      "cell_type": "code",
      "metadata": {
        "id": "CMlxB2ppa8IR",
        "colab_type": "code",
        "colab": {
          "base_uri": "https://localhost:8080/",
          "height": 219
        },
        "outputId": "48ffb0bf-e67a-496d-b8a6-b41276768de5"
      },
      "source": [
        "types = {'x_min':float, 'x_max':float, 'N':int, 'c':float, 'a':float, 'C_v':float, 'CFL':float, 'epsilon':float, 't_final':float, 'rho_expr':str, 'sigma_a_expr':str, 'sigma_c_expr':str, 'E_x_0_expr':str, 'F_x_0_expr':str, 'T_x_0_expr':str, 'dt':float, 'time_steps':int, 'E_0':str, 'E_N':str, 'F_0':str, 'F_N':str, 'T_0':str, 'E_final':str, 'T_N':str}\n",
        "df_time = pd.read_csv(\"assets/dataframes/inverse/df_temporal.csv\", thousands=',', dtype=types)\n",
        "\n",
        "df_time.head(1)      ### rho_expr a des problemes"
      ],
      "execution_count": 110,
      "outputs": [
        {
          "output_type": "execute_result",
          "data": {
            "text/html": [
              "<div>\n",
              "<style scoped>\n",
              "    .dataframe tbody tr th:only-of-type {\n",
              "        vertical-align: middle;\n",
              "    }\n",
              "\n",
              "    .dataframe tbody tr th {\n",
              "        vertical-align: top;\n",
              "    }\n",
              "\n",
              "    .dataframe thead th {\n",
              "        text-align: right;\n",
              "    }\n",
              "</style>\n",
              "<table border=\"1\" class=\"dataframe\">\n",
              "  <thead>\n",
              "    <tr style=\"text-align: right;\">\n",
              "      <th></th>\n",
              "      <th>x_min</th>\n",
              "      <th>x_max</th>\n",
              "      <th>N</th>\n",
              "      <th>c</th>\n",
              "      <th>a</th>\n",
              "      <th>C_v</th>\n",
              "      <th>CFL</th>\n",
              "      <th>epsilon</th>\n",
              "      <th>t_final</th>\n",
              "      <th>rho_expr</th>\n",
              "      <th>sigma_a_expr</th>\n",
              "      <th>sigma_c_expr</th>\n",
              "      <th>E_x_0_expr</th>\n",
              "      <th>F_x_0_expr</th>\n",
              "      <th>T_x_0_expr</th>\n",
              "      <th>dt</th>\n",
              "      <th>time_steps</th>\n",
              "      <th>E_0</th>\n",
              "      <th>E_N</th>\n",
              "      <th>F_0</th>\n",
              "      <th>F_N</th>\n",
              "      <th>T_0</th>\n",
              "      <th>T_N</th>\n",
              "    </tr>\n",
              "  </thead>\n",
              "  <tbody>\n",
              "    <tr>\n",
              "      <th>0</th>\n",
              "      <td>0.0</td>\n",
              "      <td>10.0</td>\n",
              "      <td>100</td>\n",
              "      <td>1.0</td>\n",
              "      <td>1.0</td>\n",
              "      <td>1.0</td>\n",
              "      <td>0.99</td>\n",
              "      <td>0.0001</td>\n",
              "      <td>4.0</td>\n",
              "      <td>0</td>\n",
              "      <td>0</td>\n",
              "      <td>0</td>\n",
              "      <td>exp(-((x-5)^2)/(2*(0.5^2)))</td>\n",
              "      <td>0</td>\n",
              "      <td>0.25</td>\n",
              "      <td>0.099</td>\n",
              "      <td>41</td>\n",
              "      <td>[5.21674e-22, 2.09669e-21, 1.2677e-20, 8.09504...</td>\n",
              "      <td>[5.21674e-22, 2.09669e-21, 1.2677e-20, 8.09504...</td>\n",
              "      <td>[0, -1.57502e-21, -1.21553e-20, -8.04287e-20, ...</td>\n",
              "      <td>[0, 1.57502e-21, 1.21553e-20, 8.04287e-20, 5.0...</td>\n",
              "      <td>[0.25, 0.25, 0.25, 0.25, 0.25, 0.25, 0.25, 0.2...</td>\n",
              "      <td>[0.25, 0.25, 0.25, 0.25, 0.25, 0.25, 0.25, 0.2...</td>\n",
              "    </tr>\n",
              "  </tbody>\n",
              "</table>\n",
              "</div>"
            ],
            "text/plain": [
              "   x_min  ...                                                T_N\n",
              "0    0.0  ...  [0.25, 0.25, 0.25, 0.25, 0.25, 0.25, 0.25, 0.2...\n",
              "\n",
              "[1 rows x 23 columns]"
            ]
          },
          "metadata": {
            "tags": []
          },
          "execution_count": 110
        }
      ]
    },
    {
      "cell_type": "markdown",
      "metadata": {
        "id": "7vAh6z14br_a",
        "colab_type": "text"
      },
      "source": [
        "#II - VISUALISATION DES DONNES"
      ]
    },
    {
      "cell_type": "markdown",
      "metadata": {
        "id": "qUP51ZJMcrHj",
        "colab_type": "text"
      },
      "source": [
        "## En espace"
      ]
    },
    {
      "cell_type": "code",
      "metadata": {
        "id": "lTPFBtJLbg-b",
        "colab_type": "code",
        "colab": {
          "base_uri": "https://localhost:8080/",
          "height": 282
        },
        "outputId": "42e00120-77cc-473d-86e1-8bce6d77287b"
      },
      "source": [
        "\"\"\" plot pour la premiere ligne\"\"\"\n",
        "# x_expr = df_space.loc[2, 'rho_exp']\n",
        "# x_expr\n",
        "\n",
        "x = df_space.loc[2, 'x']\n",
        "type(x)\n",
        "x = np.array(ast.literal_eval(x))\n",
        "# print(x)\n",
        "\n",
        "y = df_space.loc[2, 'E_final']\n",
        "type(x)\n",
        "y = np.array(ast.literal_eval(y))\n",
        "# print(y)\n",
        "\n",
        "plt.plot(x, y)"
      ],
      "execution_count": 111,
      "outputs": [
        {
          "output_type": "execute_result",
          "data": {
            "text/plain": [
              "[<matplotlib.lines.Line2D at 0x7fe8862aeb38>]"
            ]
          },
          "metadata": {
            "tags": []
          },
          "execution_count": 111
        },
        {
          "output_type": "display_data",
          "data": {
            "image/png": "[encoded data removed]",
            "text/plain": [
              "<Figure size 432x288 with 1 Axes>"
            ]
          },
          "metadata": {
            "tags": [],
            "needs_background": "light"
          }
        }
      ]
    },
    {
      "cell_type": "markdown",
      "metadata": {
        "id": "z0NUYaNIcwXD",
        "colab_type": "text"
      },
      "source": [
        "# En temps"
      ]
    },
    {
      "cell_type": "code",
      "metadata": {
        "id": "Gz2jzMt-cNrT",
        "colab_type": "code",
        "colab": {
          "base_uri": "https://localhost:8080/",
          "height": 286
        },
        "outputId": "426d9054-0529-4571-8dec-9ab1d698ae13"
      },
      "source": [
        "time_steps = df_time.loc[2, 'time_steps']\n",
        "t_final = df_time.loc[2, 't_final']\n",
        "dt = df_time.loc[2, 'dt']\n",
        "\n",
        "t = np.linspace(0, t_final+dt, time_steps)\n",
        "\n",
        "y = df_time.loc[2, 'E_N']\n",
        "y = np.array(ast.literal_eval(y))\n",
        "\n",
        "ax = plt.gca()\n",
        "ax.set_ylim([0, 1])\n",
        "ax.plot(t, y)"
      ],
      "execution_count": 112,
      "outputs": [
        {
          "output_type": "execute_result",
          "data": {
            "text/plain": [
              "[<matplotlib.lines.Line2D at 0x7fe88600a4e0>]"
            ]
          },
          "metadata": {
            "tags": []
          },
          "execution_count": 112
        },
        {
          "output_type": "display_data",
          "data": {
            "image/png": "[encoded data removed]",
            "text/plain": [
              "<Figure size 432x288 with 1 Axes>"
            ]
          },
          "metadata": {
            "tags": [],
            "needs_background": "light"
          }
        }
      ]
    }
  ]
}