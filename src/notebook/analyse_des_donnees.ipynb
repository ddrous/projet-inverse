{
  "cells": [
    {
      "cell_type": "markdown",
      "metadata": {
        "id": "iNXZiUPPFgj7",
        "colab_type": "text"
      },
      "source": [
        "# Analyse des donnees"
      ]
    },
    {
      "cell_type": "markdown",
      "metadata": {},
      "source": [
        "## Les imports"
      ]
    },
    {
      "cell_type": "code",
      "metadata": {
        "id": "JtAq0O5XGELH",
        "colab_type": "code",
        "colab": {}
      },
      "source": [
        "%reset -f\n",
        "\n",
        "import matplotlib.pyplot as plt\n",
        "import numpy as np\n",
        "import pandas as pd\n",
        "import seaborn as sb\n",
        "import ast            # Pour convertir les chaines de carateres en type Python\n",
        "import warnings       # Pour eviter de souvent afficher des messages d'erreurs encombrants"
      ],
      "execution_count": 2771,
      "outputs": []
    },
    {
      "cell_type": "markdown",
      "metadata": {},
      "source": [
        "## Chargeons les donnees"
      ]
    },
    {
      "cell_type": "markdown",
      "metadata": {},
      "source": [
        "### Version Colab"
      ]
    },
    {
      "cell_type": "code",
      "metadata": {
        "id": "HFYPlpRqF5tK",
        "colab_type": "code",
        "colab": {
          "base_uri": "https://localhost:8080/",
          "height": 323
        },
        "outputId": "6ccf64ad-eea9-40f3-f97e-3a3bedef12bc"
      },
      "source": [
        "# \"to load data from github (update it if we have to)\"\n",
        "# import os\n",
        "# if not os.path.exists(\"assets\"):\n",
        "#     print(\"Data wansn't here. Let's download it!\")\n",
        "#     !git clone https://github.com/desmond-rn/assets.git\n",
        "# else:\n",
        "#     print(\"Data already here. Let's update it!\")\n",
        "#     %cd assets\n",
        "#     # %rm -rf assets\n",
        "#     !git pull https://github.com/desmond-rn/assets.git\n",
        "#     %cd ..\n",
        "\n",
        "# print(\"\\n\")\n",
        "# !ls assets/dataframes/inverse\n",
        "\n",
        "# df_spatial_path = \"assets/dataframes/inverse/df_spatial.csv\"\n",
        "# df_temporal_path = \"assets/dataframes/inverse/df_temporal.csv\""
      ],
      "execution_count": 2772,
      "outputs": []
    },
    {
      "cell_type": "markdown",
      "metadata": {},
      "source": [
        "### Version Jupyter"
      ]
    },
    {
      "cell_type": "code",
      "execution_count": 2773,
      "metadata": {},
      "outputs": [
        {
          "output_type": "stream",
          "name": "stdout",
          "text": "Volume in drive C has no label.\n Volume Serial Number is 2248-85E1\n\n Directory of c:\\Users\\Roussel\\Dropbox\\Unistra\\SEMESTRE 2\\Projet\\Inverse\\moco-inverse\\data\n\n16/05/2020  19:10    <DIR>          .\n16/05/2020  19:10    <DIR>          ..\n17/05/2020  10:11            61,341 dataframe_1.csv\n17/05/2020  10:11            87,844 dataframe_2.csv\n16/05/2020  15:20             1,394 df_1.csv\n17/05/2020  12:13             4,404 df_1_test.csv\n16/05/2020  15:20             1,484 df_2.csv\n17/05/2020  12:13            15,178 df_2_test.csv\n17/05/2020  18:16         6,867,212 df_spatial.csv\n17/05/2020  18:16         3,229,843 df_temporal.csv\n               8 File(s)     10,268,700 bytes\n               2 Dir(s)  101,247,795,200 bytes free\n"
        }
      ],
      "source": [
        "\"to load data locally\"\n",
        "\n",
        "%ls \"../../data\"\n",
        "\n",
        "df_spatial_path = \"../../data/df_spatial.csv\"\n",
        "df_temporal_path = \"../../data/df_temporal.csv\""
      ]
    },
    {
      "cell_type": "markdown",
      "metadata": {
        "id": "qxCUfRNWGGvi",
        "colab_type": "text"
      },
      "source": [
        "**Obectif du projet**\n",
        "- Analyse des donnees"
      ]
    },
    {
      "cell_type": "markdown",
      "metadata": {
        "id": "ntKfcad2GNHp",
        "colab_type": "text"
      },
      "source": [
        "## I - RETRAITEMENT DES DONNESS"
      ]
    },
    {
      "cell_type": "markdown",
      "metadata": {
        "id": "ni2-GBVYYt0l",
        "colab_type": "text"
      },
      "source": [
        "## En espace"
      ]
    },
    {
      "cell_type": "code",
      "metadata": {
        "id": "OQtucmrCGo85",
        "colab_type": "code",
        "colab": {
          "base_uri": "https://localhost:8080/",
          "height": 355
        },
        "outputId": "cbcb0db9-85fd-4cf2-8554-8fe2f36f39cc"
      },
      "source": [
        "types = {'x_min':float, 'x_max':float, 'N':int, 'c':float, 'a':float, 'C_v':float, 'CFL':float, 'epsilon':float, 't_final':float, 'rho_expr':str, 'sigma_a_expr':str, 'sigma_c_expr':str, 'E_x_0_expr':str, 'F_x_0_expr':str, 'T_x_0_expr':str, 'dt':float, 'time_steps':int, 'x':str, 'rho':str, 'sigma_a':str, 'sigma_c':str, 'E_init':str, 'E_final':str, 'F_init':str, 'F_final':str, 'T_init':str, 'T_final':str}\n",
        "\n",
        "df_space = pd.read_csv(df_spatial_path, thousands=',', dtype=types)\n",
        "\n",
        "# df_space.head(15)\n",
        "df_space.loc[:, ['x','rho_expr', 'sigma_a_expr', 'sigma_c_expr']].head(30)"
      ],
      "execution_count": 2774,
      "outputs": [
        {
          "output_type": "execute_result",
          "data": {
            "text/plain": "                                                    x rho_expr sigma_a_expr  \\\n0   [0.005, 0.015, 0.025, 0.035, 0.045, 0.055, 0.0...        0            0   \n1   [0.005, 0.015, 0.025, 0.035, 0.045, 0.055, 0.0...        0            0   \n2   [0.005, 0.015, 0.025, 0.035, 0.045, 0.055, 0.0...        0            0   \n3   [0.005, 0.015, 0.025, 0.035, 0.045, 0.055, 0.0...        0            0   \n4   [0.005, 0.015, 0.025, 0.035, 0.045, 0.055, 0.0...        0            0   \n5   [0.005, 0.015, 0.025, 0.035, 0.045, 0.055, 0.0...        0            0   \n6   [0.005, 0.015, 0.025, 0.035, 0.045, 0.055, 0.0...        0            0   \n7   [0.005, 0.015, 0.025, 0.035, 0.045, 0.055, 0.0...        0            0   \n8   [0.005, 0.015, 0.025, 0.035, 0.045, 0.055, 0.0...        0            0   \n9   [0.005, 0.015, 0.025, 0.035, 0.045, 0.055, 0.0...        0            0   \n10  [0.005, 0.015, 0.025, 0.035, 0.045, 0.055, 0.0...        0          0.5   \n11  [0.005, 0.015, 0.025, 0.035, 0.045, 0.055, 0.0...        0          0.5   \n12  [0.005, 0.015, 0.025, 0.035, 0.045, 0.055, 0.0...        0          0.5   \n13  [0.005, 0.015, 0.025, 0.035, 0.045, 0.055, 0.0...        0          0.5   \n14  [0.005, 0.015, 0.025, 0.035, 0.045, 0.055, 0.0...        0          0.5   \n15  [0.005, 0.015, 0.025, 0.035, 0.045, 0.055, 0.0...        0          0.5   \n16  [0.005, 0.015, 0.025, 0.035, 0.045, 0.055, 0.0...        0          0.5   \n17  [0.005, 0.015, 0.025, 0.035, 0.045, 0.055, 0.0...        0          0.5   \n18  [0.005, 0.015, 0.025, 0.035, 0.045, 0.055, 0.0...        0          0.5   \n19  [0.005, 0.015, 0.025, 0.035, 0.045, 0.055, 0.0...        0          0.5   \n20  [0.005, 0.015, 0.025, 0.035, 0.045, 0.055, 0.0...        0            1   \n21  [0.005, 0.015, 0.025, 0.035, 0.045, 0.055, 0.0...        0            1   \n22  [0.005, 0.015, 0.025, 0.035, 0.045, 0.055, 0.0...        0            1   \n23  [0.005, 0.015, 0.025, 0.035, 0.045, 0.055, 0.0...        0            1   \n24  [0.005, 0.015, 0.025, 0.035, 0.045, 0.055, 0.0...        0            1   \n25  [0.005, 0.015, 0.025, 0.035, 0.045, 0.055, 0.0...        0            1   \n26  [0.005, 0.015, 0.025, 0.035, 0.045, 0.055, 0.0...        0            1   \n27  [0.005, 0.015, 0.025, 0.035, 0.045, 0.055, 0.0...        0            1   \n28  [0.005, 0.015, 0.025, 0.035, 0.045, 0.055, 0.0...        0            1   \n29  [0.005, 0.015, 0.025, 0.035, 0.045, 0.055, 0.0...        0            1   \n\n   sigma_c_expr  \n0             0  \n1           0.5  \n2             1  \n3           1.5  \n4             2  \n5           2.5  \n6             3  \n7           3.5  \n8             4  \n9           4.5  \n10            0  \n11          0.5  \n12            1  \n13          1.5  \n14            2  \n15          2.5  \n16            3  \n17          3.5  \n18            4  \n19          4.5  \n20            0  \n21          0.5  \n22            1  \n23          1.5  \n24            2  \n25          2.5  \n26            3  \n27          3.5  \n28            4  \n29          4.5  ",
            "text/html": "<div>\n<style scoped>\n    .dataframe tbody tr th:only-of-type {\n        vertical-align: middle;\n    }\n\n    .dataframe tbody tr th {\n        vertical-align: top;\n    }\n\n    .dataframe thead th {\n        text-align: right;\n    }\n</style>\n<table border=\"1\" class=\"dataframe\">\n  <thead>\n    <tr style=\"text-align: right;\">\n      <th></th>\n      <th>x</th>\n      <th>rho_expr</th>\n      <th>sigma_a_expr</th>\n      <th>sigma_c_expr</th>\n    </tr>\n  </thead>\n  <tbody>\n    <tr>\n      <th>0</th>\n      <td>[0.005, 0.015, 0.025, 0.035, 0.045, 0.055, 0.0...</td>\n      <td>0</td>\n      <td>0</td>\n      <td>0</td>\n    </tr>\n    <tr>\n      <th>1</th>\n      <td>[0.005, 0.015, 0.025, 0.035, 0.045, 0.055, 0.0...</td>\n      <td>0</td>\n      <td>0</td>\n      <td>0.5</td>\n    </tr>\n    <tr>\n      <th>2</th>\n      <td>[0.005, 0.015, 0.025, 0.035, 0.045, 0.055, 0.0...</td>\n      <td>0</td>\n      <td>0</td>\n      <td>1</td>\n    </tr>\n    <tr>\n      <th>3</th>\n      <td>[0.005, 0.015, 0.025, 0.035, 0.045, 0.055, 0.0...</td>\n      <td>0</td>\n      <td>0</td>\n      <td>1.5</td>\n    </tr>\n    <tr>\n      <th>4</th>\n      <td>[0.005, 0.015, 0.025, 0.035, 0.045, 0.055, 0.0...</td>\n      <td>0</td>\n      <td>0</td>\n      <td>2</td>\n    </tr>\n    <tr>\n      <th>5</th>\n      <td>[0.005, 0.015, 0.025, 0.035, 0.045, 0.055, 0.0...</td>\n      <td>0</td>\n      <td>0</td>\n      <td>2.5</td>\n    </tr>\n    <tr>\n      <th>6</th>\n      <td>[0.005, 0.015, 0.025, 0.035, 0.045, 0.055, 0.0...</td>\n      <td>0</td>\n      <td>0</td>\n      <td>3</td>\n    </tr>\n    <tr>\n      <th>7</th>\n      <td>[0.005, 0.015, 0.025, 0.035, 0.045, 0.055, 0.0...</td>\n      <td>0</td>\n      <td>0</td>\n      <td>3.5</td>\n    </tr>\n    <tr>\n      <th>8</th>\n      <td>[0.005, 0.015, 0.025, 0.035, 0.045, 0.055, 0.0...</td>\n      <td>0</td>\n      <td>0</td>\n      <td>4</td>\n    </tr>\n    <tr>\n      <th>9</th>\n      <td>[0.005, 0.015, 0.025, 0.035, 0.045, 0.055, 0.0...</td>\n      <td>0</td>\n      <td>0</td>\n      <td>4.5</td>\n    </tr>\n    <tr>\n      <th>10</th>\n      <td>[0.005, 0.015, 0.025, 0.035, 0.045, 0.055, 0.0...</td>\n      <td>0</td>\n      <td>0.5</td>\n      <td>0</td>\n    </tr>\n    <tr>\n      <th>11</th>\n      <td>[0.005, 0.015, 0.025, 0.035, 0.045, 0.055, 0.0...</td>\n      <td>0</td>\n      <td>0.5</td>\n      <td>0.5</td>\n    </tr>\n    <tr>\n      <th>12</th>\n      <td>[0.005, 0.015, 0.025, 0.035, 0.045, 0.055, 0.0...</td>\n      <td>0</td>\n      <td>0.5</td>\n      <td>1</td>\n    </tr>\n    <tr>\n      <th>13</th>\n      <td>[0.005, 0.015, 0.025, 0.035, 0.045, 0.055, 0.0...</td>\n      <td>0</td>\n      <td>0.5</td>\n      <td>1.5</td>\n    </tr>\n    <tr>\n      <th>14</th>\n      <td>[0.005, 0.015, 0.025, 0.035, 0.045, 0.055, 0.0...</td>\n      <td>0</td>\n      <td>0.5</td>\n      <td>2</td>\n    </tr>\n    <tr>\n      <th>15</th>\n      <td>[0.005, 0.015, 0.025, 0.035, 0.045, 0.055, 0.0...</td>\n      <td>0</td>\n      <td>0.5</td>\n      <td>2.5</td>\n    </tr>\n    <tr>\n      <th>16</th>\n      <td>[0.005, 0.015, 0.025, 0.035, 0.045, 0.055, 0.0...</td>\n      <td>0</td>\n      <td>0.5</td>\n      <td>3</td>\n    </tr>\n    <tr>\n      <th>17</th>\n      <td>[0.005, 0.015, 0.025, 0.035, 0.045, 0.055, 0.0...</td>\n      <td>0</td>\n      <td>0.5</td>\n      <td>3.5</td>\n    </tr>\n    <tr>\n      <th>18</th>\n      <td>[0.005, 0.015, 0.025, 0.035, 0.045, 0.055, 0.0...</td>\n      <td>0</td>\n      <td>0.5</td>\n      <td>4</td>\n    </tr>\n    <tr>\n      <th>19</th>\n      <td>[0.005, 0.015, 0.025, 0.035, 0.045, 0.055, 0.0...</td>\n      <td>0</td>\n      <td>0.5</td>\n      <td>4.5</td>\n    </tr>\n    <tr>\n      <th>20</th>\n      <td>[0.005, 0.015, 0.025, 0.035, 0.045, 0.055, 0.0...</td>\n      <td>0</td>\n      <td>1</td>\n      <td>0</td>\n    </tr>\n    <tr>\n      <th>21</th>\n      <td>[0.005, 0.015, 0.025, 0.035, 0.045, 0.055, 0.0...</td>\n      <td>0</td>\n      <td>1</td>\n      <td>0.5</td>\n    </tr>\n    <tr>\n      <th>22</th>\n      <td>[0.005, 0.015, 0.025, 0.035, 0.045, 0.055, 0.0...</td>\n      <td>0</td>\n      <td>1</td>\n      <td>1</td>\n    </tr>\n    <tr>\n      <th>23</th>\n      <td>[0.005, 0.015, 0.025, 0.035, 0.045, 0.055, 0.0...</td>\n      <td>0</td>\n      <td>1</td>\n      <td>1.5</td>\n    </tr>\n    <tr>\n      <th>24</th>\n      <td>[0.005, 0.015, 0.025, 0.035, 0.045, 0.055, 0.0...</td>\n      <td>0</td>\n      <td>1</td>\n      <td>2</td>\n    </tr>\n    <tr>\n      <th>25</th>\n      <td>[0.005, 0.015, 0.025, 0.035, 0.045, 0.055, 0.0...</td>\n      <td>0</td>\n      <td>1</td>\n      <td>2.5</td>\n    </tr>\n    <tr>\n      <th>26</th>\n      <td>[0.005, 0.015, 0.025, 0.035, 0.045, 0.055, 0.0...</td>\n      <td>0</td>\n      <td>1</td>\n      <td>3</td>\n    </tr>\n    <tr>\n      <th>27</th>\n      <td>[0.005, 0.015, 0.025, 0.035, 0.045, 0.055, 0.0...</td>\n      <td>0</td>\n      <td>1</td>\n      <td>3.5</td>\n    </tr>\n    <tr>\n      <th>28</th>\n      <td>[0.005, 0.015, 0.025, 0.035, 0.045, 0.055, 0.0...</td>\n      <td>0</td>\n      <td>1</td>\n      <td>4</td>\n    </tr>\n    <tr>\n      <th>29</th>\n      <td>[0.005, 0.015, 0.025, 0.035, 0.045, 0.055, 0.0...</td>\n      <td>0</td>\n      <td>1</td>\n      <td>4.5</td>\n    </tr>\n  </tbody>\n</table>\n</div>"
          },
          "metadata": {},
          "execution_count": 2774
        }
      ]
    },
    {
      "cell_type": "code",
      "metadata": {
        "id": "bdCY-yWpbwMt",
        "colab_type": "code",
        "colab": {
          "base_uri": "https://localhost:8080/",
          "height": 493
        },
        "outputId": "55476db8-1f53-4a11-cdd8-291b549d0b55"
      },
      "source": [
        "df_space.dtypes"
      ],
      "execution_count": 2775,
      "outputs": [
        {
          "output_type": "execute_result",
          "data": {
            "text/plain": "x_min           float64\nx_max           float64\nN                 int32\nc               float64\na               float64\nC_v             float64\nCFL             float64\nepsilon         float64\nt_final         float64\nrho_expr         object\nsigma_a_expr     object\nsigma_c_expr     object\nE_x_0_expr       object\nF_x_0_expr       object\nT_x_0_expr       object\ndt              float64\ntime_steps        int32\nx                object\nrho              object\nsigma_a          object\nsigma_c          object\nE_init           object\nE_final          object\nF_init           object\nF_final          object\nT_init           object\nT_final          object\ndtype: object"
          },
          "metadata": {},
          "execution_count": 2775
        }
      ]
    },
    {
      "cell_type": "code",
      "metadata": {
        "id": "aBz1LhB9X-69",
        "colab_type": "code",
        "colab": {
          "base_uri": "https://localhost:8080/",
          "height": 34
        },
        "outputId": "29c6eb55-5137-4c12-c973-cf0705571722"
      },
      "source": [
        "type(df_space.loc[0, 'rho_expr'])"
      ],
      "execution_count": 2776,
      "outputs": [
        {
          "output_type": "execute_result",
          "data": {
            "text/plain": "str"
          },
          "metadata": {},
          "execution_count": 2776
        }
      ]
    },
    {
      "cell_type": "markdown",
      "metadata": {
        "id": "9PNwLRX_YxIh",
        "colab_type": "text"
      },
      "source": [
        "## En temps"
      ]
    },
    {
      "cell_type": "code",
      "metadata": {
        "id": "CMlxB2ppa8IR",
        "colab_type": "code",
        "colab": {
          "base_uri": "https://localhost:8080/",
          "height": 219
        },
        "outputId": "48ffb0bf-e67a-496d-b8a6-b41276768de5"
      },
      "source": [
        "types = {'x_min':float, 'x_max':float, 'N':int, 'c':float, 'a':float, 'C_v':float, 'CFL':float, 'epsilon':float, 't_final':float, 'rho_expr':str, 'sigma_a_expr':str, 'sigma_c_expr':str, 'E_x_0_expr':str, 'F_x_0_expr':str, 'T_x_0_expr':str, 'dt':float, 'time_steps':int, 'E_left':str, 'E_right':str, 'F_left':str, 'F_right':str, 'T_left':str, 'T_right':str}\n",
        "df_time = pd.read_csv(df_temporal_path, thousands=',', dtype=types)\n",
        "\n",
        "df_time.head(1)"
      ],
      "execution_count": 2777,
      "outputs": [
        {
          "output_type": "execute_result",
          "data": {
            "text/plain": "   x_min  x_max    N    c    a  C_v   CFL  epsilon  t_final rho_expr  ...  \\\n0    0.0    1.0  100  1.0  1.0  1.0  0.99   0.0001      0.5        0  ...   \n\n  F_x_0_expr T_x_0_expr      dt time_steps  \\\n0          0          1  0.0099         51   \n\n                                              E_left  \\\n0  [5.21674e-22, 2.09669e-21, 1.2677e-20, 8.09504...   \n\n                                             E_right  \\\n0  [5.21674e-22, 2.09669e-21, 1.2677e-20, 8.09504...   \n\n                                              F_left  \\\n0  [0, -1.57502e-21, -1.21553e-20, -8.04287e-20, ...   \n\n                                             F_right  \\\n0  [0, 1.57502e-21, 1.21553e-20, 8.04287e-20, 5.0...   \n\n                                              T_left  \\\n0  [1, 1, 1, 1, 1, 1, 1, 1, 1, 1, 1, 1, 1, 1, 1, ...   \n\n                                             T_right  \n0  [1, 1, 1, 1, 1, 1, 1, 1, 1, 1, 1, 1, 1, 1, 1, ...  \n\n[1 rows x 23 columns]",
            "text/html": "<div>\n<style scoped>\n    .dataframe tbody tr th:only-of-type {\n        vertical-align: middle;\n    }\n\n    .dataframe tbody tr th {\n        vertical-align: top;\n    }\n\n    .dataframe thead th {\n        text-align: right;\n    }\n</style>\n<table border=\"1\" class=\"dataframe\">\n  <thead>\n    <tr style=\"text-align: right;\">\n      <th></th>\n      <th>x_min</th>\n      <th>x_max</th>\n      <th>N</th>\n      <th>c</th>\n      <th>a</th>\n      <th>C_v</th>\n      <th>CFL</th>\n      <th>epsilon</th>\n      <th>t_final</th>\n      <th>rho_expr</th>\n      <th>...</th>\n      <th>F_x_0_expr</th>\n      <th>T_x_0_expr</th>\n      <th>dt</th>\n      <th>time_steps</th>\n      <th>E_left</th>\n      <th>E_right</th>\n      <th>F_left</th>\n      <th>F_right</th>\n      <th>T_left</th>\n      <th>T_right</th>\n    </tr>\n  </thead>\n  <tbody>\n    <tr>\n      <th>0</th>\n      <td>0.0</td>\n      <td>1.0</td>\n      <td>100</td>\n      <td>1.0</td>\n      <td>1.0</td>\n      <td>1.0</td>\n      <td>0.99</td>\n      <td>0.0001</td>\n      <td>0.5</td>\n      <td>0</td>\n      <td>...</td>\n      <td>0</td>\n      <td>1</td>\n      <td>0.0099</td>\n      <td>51</td>\n      <td>[5.21674e-22, 2.09669e-21, 1.2677e-20, 8.09504...</td>\n      <td>[5.21674e-22, 2.09669e-21, 1.2677e-20, 8.09504...</td>\n      <td>[0, -1.57502e-21, -1.21553e-20, -8.04287e-20, ...</td>\n      <td>[0, 1.57502e-21, 1.21553e-20, 8.04287e-20, 5.0...</td>\n      <td>[1, 1, 1, 1, 1, 1, 1, 1, 1, 1, 1, 1, 1, 1, 1, ...</td>\n      <td>[1, 1, 1, 1, 1, 1, 1, 1, 1, 1, 1, 1, 1, 1, 1, ...</td>\n    </tr>\n  </tbody>\n</table>\n<p>1 rows × 23 columns</p>\n</div>"
          },
          "metadata": {},
          "execution_count": 2777
        }
      ]
    },
    {
      "cell_type": "markdown",
      "metadata": {
        "id": "7vAh6z14br_a",
        "colab_type": "text"
      },
      "source": [
        "# II - VISUALISATION DES DONNES"
      ]
    },
    {
      "cell_type": "markdown",
      "metadata": {
        "id": "qUP51ZJMcrHj",
        "colab_type": "text"
      },
      "source": [
        "## En espace"
      ]
    },
    {
      "cell_type": "code",
      "metadata": {
        "id": "lTPFBtJLbg-b",
        "colab_type": "code",
        "colab": {
          "base_uri": "https://localhost:8080/",
          "height": 282
        },
        "outputId": "42e00120-77cc-473d-86e1-8bce6d77287b"
      },
      "source": [
        "\"\"\" plot pour la premiere ligne\"\"\"\n",
        "# x_expr = df_space.loc[2, 'rho_exp']\n",
        "# x_expr\n",
        "\n",
        "index = 0\n",
        "\n",
        "x = df_space.loc[index, 'x']\n",
        "type(x)\n",
        "x = np.array(ast.literal_eval(x))\n",
        "# print(x)\n",
        "\n",
        "y1 = df_space.loc[index, 'E_final']\n",
        "y2 = df_space.loc[index, 'F_final']\n",
        "# y = df_space.loc[index, 'sigma_c']\n",
        "# y = df_space.loc[index, 'T_init']\n",
        "# y = df_space.loc[index, 'T_final']\n",
        "# y = df_space.loc[index, 'rho']\n",
        "type(x)\n",
        "y1 = np.array(ast.literal_eval(y1))\n",
        "y2 = np.array(ast.literal_eval(y2))\n",
        "# print(y)\n",
        "\n",
        "ax = plt.gca()\n",
        "ax.set_ylim([-1.05, 1.05])\n",
        "ax.plot(x, y1)\n",
        "ax.plot(x, y2)"
      ],
      "execution_count": 2778,
      "outputs": [
        {
          "output_type": "execute_result",
          "data": {
            "text/plain": "[<matplotlib.lines.Line2D at 0x256e169d948>]"
          },
          "metadata": {},
          "execution_count": 2778
        },
        {
          "output_type": "display_data",
          "data": {
            "text/plain": "<Figure size 432x288 with 1 Axes>",
            "image/svg+xml": "<?xml version=\"1.0\" encoding=\"utf-8\" standalone=\"no\"?>\r\n<!DOCTYPE svg PUBLIC \"-//W3C//DTD SVG 1.1//EN\"\r\n  \"http://www.w3.org/Graphics/SVG/1.1/DTD/svg11.dtd\">\r\n<!-- Created with matplotlib (https://matplotlib.org/) -->\r\n<svg height=\"248.518125pt\" version=\"1.1\" viewBox=\"0 0 386.845312 248.518125\" width=\"386.845312pt\" xmlns=\"http://www.w3.org/2000/svg\" xmlns:xlink=\"http://www.w3.org/1999/xlink\">\r\n <defs>\r\n  <style type=\"text/css\">\r\n*{stroke-linecap:butt;stroke-linejoin:round;}\r\n  </style>\r\n </defs>\r\n <g id=\"figure_1\">\r\n  <g id=\"patch_1\">\r\n   <path d=\"M 0 248.518125 \r\nL 386.845312 248.518125 \r\nL 386.845312 0 \r\nL 0 0 \r\nz\r\n\" style=\"fill:none;\"/>\r\n  </g>\r\n  <g id=\"axes_1\">\r\n   <g id=\"patch_2\">\r\n    <path d=\"M 44.845313 224.64 \r\nL 379.645313 224.64 \r\nL 379.645313 7.2 \r\nL 44.845313 7.2 \r\nz\r\n\" style=\"fill:#ffffff;\"/>\r\n   </g>\r\n   <g id=\"matplotlib.axis_1\">\r\n    <g id=\"xtick_1\">\r\n     <g id=\"line2d_1\">\r\n      <defs>\r\n       <path d=\"M 0 0 \r\nL 0 3.5 \r\n\" id=\"mdffba1b1cb\" style=\"stroke:#000000;stroke-width:0.8;\"/>\r\n      </defs>\r\n      <g>\r\n       <use style=\"stroke:#000000;stroke-width:0.8;\" x=\"58.526304\" xlink:href=\"#mdffba1b1cb\" y=\"224.64\"/>\r\n      </g>\r\n     </g>\r\n     <g id=\"text_1\">\r\n      <!-- 0.0 -->\r\n      <defs>\r\n       <path d=\"M 31.78125 66.40625 \r\nQ 24.171875 66.40625 20.328125 58.90625 \r\nQ 16.5 51.421875 16.5 36.375 \r\nQ 16.5 21.390625 20.328125 13.890625 \r\nQ 24.171875 6.390625 31.78125 6.390625 \r\nQ 39.453125 6.390625 43.28125 13.890625 \r\nQ 47.125 21.390625 47.125 36.375 \r\nQ 47.125 51.421875 43.28125 58.90625 \r\nQ 39.453125 66.40625 31.78125 66.40625 \r\nz\r\nM 31.78125 74.21875 \r\nQ 44.046875 74.21875 50.515625 64.515625 \r\nQ 56.984375 54.828125 56.984375 36.375 \r\nQ 56.984375 17.96875 50.515625 8.265625 \r\nQ 44.046875 -1.421875 31.78125 -1.421875 \r\nQ 19.53125 -1.421875 13.0625 8.265625 \r\nQ 6.59375 17.96875 6.59375 36.375 \r\nQ 6.59375 54.828125 13.0625 64.515625 \r\nQ 19.53125 74.21875 31.78125 74.21875 \r\nz\r\n\" id=\"DejaVuSans-48\"/>\r\n       <path d=\"M 10.6875 12.40625 \r\nL 21 12.40625 \r\nL 21 0 \r\nL 10.6875 0 \r\nz\r\n\" id=\"DejaVuSans-46\"/>\r\n      </defs>\r\n      <g transform=\"translate(50.574742 239.238437)scale(0.1 -0.1)\">\r\n       <use xlink:href=\"#DejaVuSans-48\"/>\r\n       <use x=\"63.623047\" xlink:href=\"#DejaVuSans-46\"/>\r\n       <use x=\"95.410156\" xlink:href=\"#DejaVuSans-48\"/>\r\n      </g>\r\n     </g>\r\n    </g>\r\n    <g id=\"xtick_2\">\r\n     <g id=\"line2d_2\">\r\n      <g>\r\n       <use style=\"stroke:#000000;stroke-width:0.8;\" x=\"120.013908\" xlink:href=\"#mdffba1b1cb\" y=\"224.64\"/>\r\n      </g>\r\n     </g>\r\n     <g id=\"text_2\">\r\n      <!-- 0.2 -->\r\n      <defs>\r\n       <path d=\"M 19.1875 8.296875 \r\nL 53.609375 8.296875 \r\nL 53.609375 0 \r\nL 7.328125 0 \r\nL 7.328125 8.296875 \r\nQ 12.9375 14.109375 22.625 23.890625 \r\nQ 32.328125 33.6875 34.8125 36.53125 \r\nQ 39.546875 41.84375 41.421875 45.53125 \r\nQ 43.3125 49.21875 43.3125 52.78125 \r\nQ 43.3125 58.59375 39.234375 62.25 \r\nQ 35.15625 65.921875 28.609375 65.921875 \r\nQ 23.96875 65.921875 18.8125 64.3125 \r\nQ 13.671875 62.703125 7.8125 59.421875 \r\nL 7.8125 69.390625 \r\nQ 13.765625 71.78125 18.9375 73 \r\nQ 24.125 74.21875 28.421875 74.21875 \r\nQ 39.75 74.21875 46.484375 68.546875 \r\nQ 53.21875 62.890625 53.21875 53.421875 \r\nQ 53.21875 48.921875 51.53125 44.890625 \r\nQ 49.859375 40.875 45.40625 35.40625 \r\nQ 44.1875 33.984375 37.640625 27.21875 \r\nQ 31.109375 20.453125 19.1875 8.296875 \r\nz\r\n\" id=\"DejaVuSans-50\"/>\r\n      </defs>\r\n      <g transform=\"translate(112.062345 239.238437)scale(0.1 -0.1)\">\r\n       <use xlink:href=\"#DejaVuSans-48\"/>\r\n       <use x=\"63.623047\" xlink:href=\"#DejaVuSans-46\"/>\r\n       <use x=\"95.410156\" xlink:href=\"#DejaVuSans-50\"/>\r\n      </g>\r\n     </g>\r\n    </g>\r\n    <g id=\"xtick_3\">\r\n     <g id=\"line2d_3\">\r\n      <g>\r\n       <use style=\"stroke:#000000;stroke-width:0.8;\" x=\"181.501511\" xlink:href=\"#mdffba1b1cb\" y=\"224.64\"/>\r\n      </g>\r\n     </g>\r\n     <g id=\"text_3\">\r\n      <!-- 0.4 -->\r\n      <defs>\r\n       <path d=\"M 37.796875 64.3125 \r\nL 12.890625 25.390625 \r\nL 37.796875 25.390625 \r\nz\r\nM 35.203125 72.90625 \r\nL 47.609375 72.90625 \r\nL 47.609375 25.390625 \r\nL 58.015625 25.390625 \r\nL 58.015625 17.1875 \r\nL 47.609375 17.1875 \r\nL 47.609375 0 \r\nL 37.796875 0 \r\nL 37.796875 17.1875 \r\nL 4.890625 17.1875 \r\nL 4.890625 26.703125 \r\nz\r\n\" id=\"DejaVuSans-52\"/>\r\n      </defs>\r\n      <g transform=\"translate(173.549948 239.238437)scale(0.1 -0.1)\">\r\n       <use xlink:href=\"#DejaVuSans-48\"/>\r\n       <use x=\"63.623047\" xlink:href=\"#DejaVuSans-46\"/>\r\n       <use x=\"95.410156\" xlink:href=\"#DejaVuSans-52\"/>\r\n      </g>\r\n     </g>\r\n    </g>\r\n    <g id=\"xtick_4\">\r\n     <g id=\"line2d_4\">\r\n      <g>\r\n       <use style=\"stroke:#000000;stroke-width:0.8;\" x=\"242.989114\" xlink:href=\"#mdffba1b1cb\" y=\"224.64\"/>\r\n      </g>\r\n     </g>\r\n     <g id=\"text_4\">\r\n      <!-- 0.6 -->\r\n      <defs>\r\n       <path d=\"M 33.015625 40.375 \r\nQ 26.375 40.375 22.484375 35.828125 \r\nQ 18.609375 31.296875 18.609375 23.390625 \r\nQ 18.609375 15.53125 22.484375 10.953125 \r\nQ 26.375 6.390625 33.015625 6.390625 \r\nQ 39.65625 6.390625 43.53125 10.953125 \r\nQ 47.40625 15.53125 47.40625 23.390625 \r\nQ 47.40625 31.296875 43.53125 35.828125 \r\nQ 39.65625 40.375 33.015625 40.375 \r\nz\r\nM 52.59375 71.296875 \r\nL 52.59375 62.3125 \r\nQ 48.875 64.0625 45.09375 64.984375 \r\nQ 41.3125 65.921875 37.59375 65.921875 \r\nQ 27.828125 65.921875 22.671875 59.328125 \r\nQ 17.53125 52.734375 16.796875 39.40625 \r\nQ 19.671875 43.65625 24.015625 45.921875 \r\nQ 28.375 48.1875 33.59375 48.1875 \r\nQ 44.578125 48.1875 50.953125 41.515625 \r\nQ 57.328125 34.859375 57.328125 23.390625 \r\nQ 57.328125 12.15625 50.6875 5.359375 \r\nQ 44.046875 -1.421875 33.015625 -1.421875 \r\nQ 20.359375 -1.421875 13.671875 8.265625 \r\nQ 6.984375 17.96875 6.984375 36.375 \r\nQ 6.984375 53.65625 15.1875 63.9375 \r\nQ 23.390625 74.21875 37.203125 74.21875 \r\nQ 40.921875 74.21875 44.703125 73.484375 \r\nQ 48.484375 72.75 52.59375 71.296875 \r\nz\r\n\" id=\"DejaVuSans-54\"/>\r\n      </defs>\r\n      <g transform=\"translate(235.037552 239.238437)scale(0.1 -0.1)\">\r\n       <use xlink:href=\"#DejaVuSans-48\"/>\r\n       <use x=\"63.623047\" xlink:href=\"#DejaVuSans-46\"/>\r\n       <use x=\"95.410156\" xlink:href=\"#DejaVuSans-54\"/>\r\n      </g>\r\n     </g>\r\n    </g>\r\n    <g id=\"xtick_5\">\r\n     <g id=\"line2d_5\">\r\n      <g>\r\n       <use style=\"stroke:#000000;stroke-width:0.8;\" x=\"304.476717\" xlink:href=\"#mdffba1b1cb\" y=\"224.64\"/>\r\n      </g>\r\n     </g>\r\n     <g id=\"text_5\">\r\n      <!-- 0.8 -->\r\n      <defs>\r\n       <path d=\"M 31.78125 34.625 \r\nQ 24.75 34.625 20.71875 30.859375 \r\nQ 16.703125 27.09375 16.703125 20.515625 \r\nQ 16.703125 13.921875 20.71875 10.15625 \r\nQ 24.75 6.390625 31.78125 6.390625 \r\nQ 38.8125 6.390625 42.859375 10.171875 \r\nQ 46.921875 13.96875 46.921875 20.515625 \r\nQ 46.921875 27.09375 42.890625 30.859375 \r\nQ 38.875 34.625 31.78125 34.625 \r\nz\r\nM 21.921875 38.8125 \r\nQ 15.578125 40.375 12.03125 44.71875 \r\nQ 8.5 49.078125 8.5 55.328125 \r\nQ 8.5 64.0625 14.71875 69.140625 \r\nQ 20.953125 74.21875 31.78125 74.21875 \r\nQ 42.671875 74.21875 48.875 69.140625 \r\nQ 55.078125 64.0625 55.078125 55.328125 \r\nQ 55.078125 49.078125 51.53125 44.71875 \r\nQ 48 40.375 41.703125 38.8125 \r\nQ 48.828125 37.15625 52.796875 32.3125 \r\nQ 56.78125 27.484375 56.78125 20.515625 \r\nQ 56.78125 9.90625 50.3125 4.234375 \r\nQ 43.84375 -1.421875 31.78125 -1.421875 \r\nQ 19.734375 -1.421875 13.25 4.234375 \r\nQ 6.78125 9.90625 6.78125 20.515625 \r\nQ 6.78125 27.484375 10.78125 32.3125 \r\nQ 14.796875 37.15625 21.921875 38.8125 \r\nz\r\nM 18.3125 54.390625 \r\nQ 18.3125 48.734375 21.84375 45.5625 \r\nQ 25.390625 42.390625 31.78125 42.390625 \r\nQ 38.140625 42.390625 41.71875 45.5625 \r\nQ 45.3125 48.734375 45.3125 54.390625 \r\nQ 45.3125 60.0625 41.71875 63.234375 \r\nQ 38.140625 66.40625 31.78125 66.40625 \r\nQ 25.390625 66.40625 21.84375 63.234375 \r\nQ 18.3125 60.0625 18.3125 54.390625 \r\nz\r\n\" id=\"DejaVuSans-56\"/>\r\n      </defs>\r\n      <g transform=\"translate(296.525155 239.238437)scale(0.1 -0.1)\">\r\n       <use xlink:href=\"#DejaVuSans-48\"/>\r\n       <use x=\"63.623047\" xlink:href=\"#DejaVuSans-46\"/>\r\n       <use x=\"95.410156\" xlink:href=\"#DejaVuSans-56\"/>\r\n      </g>\r\n     </g>\r\n    </g>\r\n    <g id=\"xtick_6\">\r\n     <g id=\"line2d_6\">\r\n      <g>\r\n       <use style=\"stroke:#000000;stroke-width:0.8;\" x=\"365.964321\" xlink:href=\"#mdffba1b1cb\" y=\"224.64\"/>\r\n      </g>\r\n     </g>\r\n     <g id=\"text_6\">\r\n      <!-- 1.0 -->\r\n      <defs>\r\n       <path d=\"M 12.40625 8.296875 \r\nL 28.515625 8.296875 \r\nL 28.515625 63.921875 \r\nL 10.984375 60.40625 \r\nL 10.984375 69.390625 \r\nL 28.421875 72.90625 \r\nL 38.28125 72.90625 \r\nL 38.28125 8.296875 \r\nL 54.390625 8.296875 \r\nL 54.390625 0 \r\nL 12.40625 0 \r\nz\r\n\" id=\"DejaVuSans-49\"/>\r\n      </defs>\r\n      <g transform=\"translate(358.012758 239.238437)scale(0.1 -0.1)\">\r\n       <use xlink:href=\"#DejaVuSans-49\"/>\r\n       <use x=\"63.623047\" xlink:href=\"#DejaVuSans-46\"/>\r\n       <use x=\"95.410156\" xlink:href=\"#DejaVuSans-48\"/>\r\n      </g>\r\n     </g>\r\n    </g>\r\n   </g>\r\n   <g id=\"matplotlib.axis_2\">\r\n    <g id=\"ytick_1\">\r\n     <g id=\"line2d_7\">\r\n      <defs>\r\n       <path d=\"M 0 0 \r\nL -3.5 0 \r\n\" id=\"mc07bfd3dd4\" style=\"stroke:#000000;stroke-width:0.8;\"/>\r\n      </defs>\r\n      <g>\r\n       <use style=\"stroke:#000000;stroke-width:0.8;\" x=\"44.845313\" xlink:href=\"#mc07bfd3dd4\" y=\"219.462857\"/>\r\n      </g>\r\n     </g>\r\n     <g id=\"text_7\">\r\n      <!-- −1.00 -->\r\n      <defs>\r\n       <path d=\"M 10.59375 35.5 \r\nL 73.1875 35.5 \r\nL 73.1875 27.203125 \r\nL 10.59375 27.203125 \r\nz\r\n\" id=\"DejaVuSans-8722\"/>\r\n      </defs>\r\n      <g transform=\"translate(7.2 223.262076)scale(0.1 -0.1)\">\r\n       <use xlink:href=\"#DejaVuSans-8722\"/>\r\n       <use x=\"83.789062\" xlink:href=\"#DejaVuSans-49\"/>\r\n       <use x=\"147.412109\" xlink:href=\"#DejaVuSans-46\"/>\r\n       <use x=\"179.199219\" xlink:href=\"#DejaVuSans-48\"/>\r\n       <use x=\"242.822266\" xlink:href=\"#DejaVuSans-48\"/>\r\n      </g>\r\n     </g>\r\n    </g>\r\n    <g id=\"ytick_2\">\r\n     <g id=\"line2d_8\">\r\n      <g>\r\n       <use style=\"stroke:#000000;stroke-width:0.8;\" x=\"44.845313\" xlink:href=\"#mc07bfd3dd4\" y=\"193.577143\"/>\r\n      </g>\r\n     </g>\r\n     <g id=\"text_8\">\r\n      <!-- −0.75 -->\r\n      <defs>\r\n       <path d=\"M 8.203125 72.90625 \r\nL 55.078125 72.90625 \r\nL 55.078125 68.703125 \r\nL 28.609375 0 \r\nL 18.3125 0 \r\nL 43.21875 64.59375 \r\nL 8.203125 64.59375 \r\nz\r\n\" id=\"DejaVuSans-55\"/>\r\n       <path d=\"M 10.796875 72.90625 \r\nL 49.515625 72.90625 \r\nL 49.515625 64.59375 \r\nL 19.828125 64.59375 \r\nL 19.828125 46.734375 \r\nQ 21.96875 47.46875 24.109375 47.828125 \r\nQ 26.265625 48.1875 28.421875 48.1875 \r\nQ 40.625 48.1875 47.75 41.5 \r\nQ 54.890625 34.8125 54.890625 23.390625 \r\nQ 54.890625 11.625 47.5625 5.09375 \r\nQ 40.234375 -1.421875 26.90625 -1.421875 \r\nQ 22.3125 -1.421875 17.546875 -0.640625 \r\nQ 12.796875 0.140625 7.71875 1.703125 \r\nL 7.71875 11.625 \r\nQ 12.109375 9.234375 16.796875 8.0625 \r\nQ 21.484375 6.890625 26.703125 6.890625 \r\nQ 35.15625 6.890625 40.078125 11.328125 \r\nQ 45.015625 15.765625 45.015625 23.390625 \r\nQ 45.015625 31 40.078125 35.4375 \r\nQ 35.15625 39.890625 26.703125 39.890625 \r\nQ 22.75 39.890625 18.8125 39.015625 \r\nQ 14.890625 38.140625 10.796875 36.28125 \r\nz\r\n\" id=\"DejaVuSans-53\"/>\r\n      </defs>\r\n      <g transform=\"translate(7.2 197.376362)scale(0.1 -0.1)\">\r\n       <use xlink:href=\"#DejaVuSans-8722\"/>\r\n       <use x=\"83.789062\" xlink:href=\"#DejaVuSans-48\"/>\r\n       <use x=\"147.412109\" xlink:href=\"#DejaVuSans-46\"/>\r\n       <use x=\"179.199219\" xlink:href=\"#DejaVuSans-55\"/>\r\n       <use x=\"242.822266\" xlink:href=\"#DejaVuSans-53\"/>\r\n      </g>\r\n     </g>\r\n    </g>\r\n    <g id=\"ytick_3\">\r\n     <g id=\"line2d_9\">\r\n      <g>\r\n       <use style=\"stroke:#000000;stroke-width:0.8;\" x=\"44.845313\" xlink:href=\"#mc07bfd3dd4\" y=\"167.691429\"/>\r\n      </g>\r\n     </g>\r\n     <g id=\"text_9\">\r\n      <!-- −0.50 -->\r\n      <g transform=\"translate(7.2 171.490647)scale(0.1 -0.1)\">\r\n       <use xlink:href=\"#DejaVuSans-8722\"/>\r\n       <use x=\"83.789062\" xlink:href=\"#DejaVuSans-48\"/>\r\n       <use x=\"147.412109\" xlink:href=\"#DejaVuSans-46\"/>\r\n       <use x=\"179.199219\" xlink:href=\"#DejaVuSans-53\"/>\r\n       <use x=\"242.822266\" xlink:href=\"#DejaVuSans-48\"/>\r\n      </g>\r\n     </g>\r\n    </g>\r\n    <g id=\"ytick_4\">\r\n     <g id=\"line2d_10\">\r\n      <g>\r\n       <use style=\"stroke:#000000;stroke-width:0.8;\" x=\"44.845313\" xlink:href=\"#mc07bfd3dd4\" y=\"141.805714\"/>\r\n      </g>\r\n     </g>\r\n     <g id=\"text_10\">\r\n      <!-- −0.25 -->\r\n      <g transform=\"translate(7.2 145.604933)scale(0.1 -0.1)\">\r\n       <use xlink:href=\"#DejaVuSans-8722\"/>\r\n       <use x=\"83.789062\" xlink:href=\"#DejaVuSans-48\"/>\r\n       <use x=\"147.412109\" xlink:href=\"#DejaVuSans-46\"/>\r\n       <use x=\"179.199219\" xlink:href=\"#DejaVuSans-50\"/>\r\n       <use x=\"242.822266\" xlink:href=\"#DejaVuSans-53\"/>\r\n      </g>\r\n     </g>\r\n    </g>\r\n    <g id=\"ytick_5\">\r\n     <g id=\"line2d_11\">\r\n      <g>\r\n       <use style=\"stroke:#000000;stroke-width:0.8;\" x=\"44.845313\" xlink:href=\"#mc07bfd3dd4\" y=\"115.92\"/>\r\n      </g>\r\n     </g>\r\n     <g id=\"text_11\">\r\n      <!-- 0.00 -->\r\n      <g transform=\"translate(15.579688 119.719219)scale(0.1 -0.1)\">\r\n       <use xlink:href=\"#DejaVuSans-48\"/>\r\n       <use x=\"63.623047\" xlink:href=\"#DejaVuSans-46\"/>\r\n       <use x=\"95.410156\" xlink:href=\"#DejaVuSans-48\"/>\r\n       <use x=\"159.033203\" xlink:href=\"#DejaVuSans-48\"/>\r\n      </g>\r\n     </g>\r\n    </g>\r\n    <g id=\"ytick_6\">\r\n     <g id=\"line2d_12\">\r\n      <g>\r\n       <use style=\"stroke:#000000;stroke-width:0.8;\" x=\"44.845313\" xlink:href=\"#mc07bfd3dd4\" y=\"90.034286\"/>\r\n      </g>\r\n     </g>\r\n     <g id=\"text_12\">\r\n      <!-- 0.25 -->\r\n      <g transform=\"translate(15.579688 93.833504)scale(0.1 -0.1)\">\r\n       <use xlink:href=\"#DejaVuSans-48\"/>\r\n       <use x=\"63.623047\" xlink:href=\"#DejaVuSans-46\"/>\r\n       <use x=\"95.410156\" xlink:href=\"#DejaVuSans-50\"/>\r\n       <use x=\"159.033203\" xlink:href=\"#DejaVuSans-53\"/>\r\n      </g>\r\n     </g>\r\n    </g>\r\n    <g id=\"ytick_7\">\r\n     <g id=\"line2d_13\">\r\n      <g>\r\n       <use style=\"stroke:#000000;stroke-width:0.8;\" x=\"44.845313\" xlink:href=\"#mc07bfd3dd4\" y=\"64.148571\"/>\r\n      </g>\r\n     </g>\r\n     <g id=\"text_13\">\r\n      <!-- 0.50 -->\r\n      <g transform=\"translate(15.579688 67.94779)scale(0.1 -0.1)\">\r\n       <use xlink:href=\"#DejaVuSans-48\"/>\r\n       <use x=\"63.623047\" xlink:href=\"#DejaVuSans-46\"/>\r\n       <use x=\"95.410156\" xlink:href=\"#DejaVuSans-53\"/>\r\n       <use x=\"159.033203\" xlink:href=\"#DejaVuSans-48\"/>\r\n      </g>\r\n     </g>\r\n    </g>\r\n    <g id=\"ytick_8\">\r\n     <g id=\"line2d_14\">\r\n      <g>\r\n       <use style=\"stroke:#000000;stroke-width:0.8;\" x=\"44.845313\" xlink:href=\"#mc07bfd3dd4\" y=\"38.262857\"/>\r\n      </g>\r\n     </g>\r\n     <g id=\"text_14\">\r\n      <!-- 0.75 -->\r\n      <g transform=\"translate(15.579688 42.062076)scale(0.1 -0.1)\">\r\n       <use xlink:href=\"#DejaVuSans-48\"/>\r\n       <use x=\"63.623047\" xlink:href=\"#DejaVuSans-46\"/>\r\n       <use x=\"95.410156\" xlink:href=\"#DejaVuSans-55\"/>\r\n       <use x=\"159.033203\" xlink:href=\"#DejaVuSans-53\"/>\r\n      </g>\r\n     </g>\r\n    </g>\r\n    <g id=\"ytick_9\">\r\n     <g id=\"line2d_15\">\r\n      <g>\r\n       <use style=\"stroke:#000000;stroke-width:0.8;\" x=\"44.845313\" xlink:href=\"#mc07bfd3dd4\" y=\"12.377143\"/>\r\n      </g>\r\n     </g>\r\n     <g id=\"text_15\">\r\n      <!-- 1.00 -->\r\n      <g transform=\"translate(15.579688 16.176362)scale(0.1 -0.1)\">\r\n       <use xlink:href=\"#DejaVuSans-49\"/>\r\n       <use x=\"63.623047\" xlink:href=\"#DejaVuSans-46\"/>\r\n       <use x=\"95.410156\" xlink:href=\"#DejaVuSans-48\"/>\r\n       <use x=\"159.033203\" xlink:href=\"#DejaVuSans-48\"/>\r\n      </g>\r\n     </g>\r\n    </g>\r\n   </g>\r\n   <g id=\"line2d_16\">\r\n    <path clip-path=\"url(#p7f4dc19583)\" d=\"M 60.063494 65.653463 \r\nL 63.137874 68.523154 \r\nL 66.212255 72.945262 \r\nL 69.286635 78.450118 \r\nL 72.361015 84.502405 \r\nL 75.435395 90.586273 \r\nL 78.509775 96.273882 \r\nL 81.584155 101.267133 \r\nL 84.658536 105.408847 \r\nL 87.732916 108.66761 \r\nL 90.807296 111.106841 \r\nL 93.881676 112.847324 \r\nL 96.956056 114.033056 \r\nL 100.030436 114.805258 \r\nL 103.104817 115.286438 \r\nL 106.179197 115.573566 \r\nL 109.253577 115.737742 \r\nL 112.327957 115.827739 \r\nL 115.402337 115.87506 \r\nL 118.476717 115.898935 \r\nL 121.551098 115.910498 \r\nL 124.625478 115.915875 \r\nL 127.699858 115.918277 \r\nL 130.774238 115.919307 \r\nL 133.848618 115.919732 \r\nL 136.922998 115.9199 \r\nL 139.997379 115.919964 \r\nL 143.071759 115.919988 \r\nL 146.146139 115.919996 \r\nL 149.220519 115.919999 \r\nL 152.294899 115.92 \r\nL 155.369279 115.92 \r\nL 158.44366 115.92 \r\nL 161.51804 115.92 \r\nL 164.59242 115.92 \r\nL 167.6668 115.92 \r\nL 170.74118 115.92 \r\nL 173.81556 115.92 \r\nL 176.889941 115.92 \r\nL 179.964321 115.92 \r\nL 183.038701 115.92 \r\nL 186.113081 115.92 \r\nL 189.187461 115.92 \r\nL 192.261841 115.92 \r\nL 195.336222 115.92 \r\nL 198.410602 115.92 \r\nL 201.484982 115.92 \r\nL 204.559362 115.92 \r\nL 207.633742 115.92 \r\nL 210.708122 115.92 \r\nL 213.782503 115.92 \r\nL 216.856883 115.92 \r\nL 219.931263 115.92 \r\nL 223.005643 115.92 \r\nL 226.080023 115.92 \r\nL 229.154403 115.92 \r\nL 232.228784 115.92 \r\nL 235.303164 115.92 \r\nL 238.377544 115.92 \r\nL 241.451924 115.92 \r\nL 244.526304 115.92 \r\nL 247.600684 115.92 \r\nL 250.675065 115.92 \r\nL 253.749445 115.92 \r\nL 256.823825 115.92 \r\nL 259.898205 115.92 \r\nL 262.972585 115.92 \r\nL 266.046965 115.92 \r\nL 269.121346 115.92 \r\nL 272.195726 115.92 \r\nL 275.270106 115.919999 \r\nL 278.344486 115.919996 \r\nL 281.418866 115.919988 \r\nL 284.493246 115.919964 \r\nL 287.567627 115.9199 \r\nL 290.642007 115.919732 \r\nL 293.716387 115.919307 \r\nL 296.790767 115.918277 \r\nL 299.865147 115.915875 \r\nL 302.939527 115.910498 \r\nL 306.013908 115.898935 \r\nL 309.088288 115.87506 \r\nL 312.162668 115.827739 \r\nL 315.237048 115.737742 \r\nL 318.311428 115.573566 \r\nL 321.385808 115.286438 \r\nL 324.460189 114.805258 \r\nL 327.534569 114.033056 \r\nL 330.608949 112.847324 \r\nL 333.683329 111.106841 \r\nL 336.757709 108.66761 \r\nL 339.832089 105.408847 \r\nL 342.90647 101.267133 \r\nL 345.98085 96.273882 \r\nL 349.05523 90.586273 \r\nL 352.12961 84.502405 \r\nL 355.20399 78.450118 \r\nL 358.27837 72.945262 \r\nL 361.352751 68.523154 \r\nL 364.427131 65.653463 \r\n\" style=\"fill:none;stroke:#1f77b4;stroke-linecap:square;stroke-width:1.5;\"/>\r\n   </g>\r\n   <g id=\"line2d_17\">\r\n    <path clip-path=\"url(#p7f4dc19583)\" d=\"M 60.063494 166.186537 \r\nL 63.137874 163.316846 \r\nL 66.212255 158.894738 \r\nL 69.286635 153.389882 \r\nL 72.361015 147.337595 \r\nL 75.435395 141.253727 \r\nL 78.509775 135.566118 \r\nL 81.584155 130.572867 \r\nL 84.658536 126.431153 \r\nL 87.732916 123.17239 \r\nL 90.807296 120.733159 \r\nL 93.881676 118.992676 \r\nL 96.956056 117.806944 \r\nL 100.030436 117.034742 \r\nL 103.104817 116.553562 \r\nL 106.179197 116.266434 \r\nL 109.253577 116.102258 \r\nL 112.327957 116.012261 \r\nL 115.402337 115.96494 \r\nL 118.476717 115.941065 \r\nL 121.551098 115.929502 \r\nL 124.625478 115.924125 \r\nL 127.699858 115.921723 \r\nL 130.774238 115.920693 \r\nL 133.848618 115.920268 \r\nL 136.922998 115.9201 \r\nL 139.997379 115.920036 \r\nL 143.071759 115.920012 \r\nL 146.146139 115.920004 \r\nL 149.220519 115.920001 \r\nL 152.294899 115.92 \r\nL 155.369279 115.92 \r\nL 158.44366 115.92 \r\nL 161.51804 115.92 \r\nL 164.59242 115.92 \r\nL 167.6668 115.92 \r\nL 170.74118 115.92 \r\nL 173.81556 115.92 \r\nL 176.889941 115.92 \r\nL 179.964321 115.92 \r\nL 183.038701 115.92 \r\nL 186.113081 115.92 \r\nL 189.187461 115.92 \r\nL 192.261841 115.92 \r\nL 195.336222 115.92 \r\nL 198.410602 115.92 \r\nL 201.484982 115.92 \r\nL 204.559362 115.92 \r\nL 207.633742 115.92 \r\nL 210.708122 115.92 \r\nL 213.782503 115.92 \r\nL 216.856883 115.92 \r\nL 219.931263 115.92 \r\nL 223.005643 115.92 \r\nL 226.080023 115.92 \r\nL 229.154403 115.92 \r\nL 232.228784 115.92 \r\nL 235.303164 115.92 \r\nL 238.377544 115.92 \r\nL 241.451924 115.92 \r\nL 244.526304 115.92 \r\nL 247.600684 115.92 \r\nL 250.675065 115.92 \r\nL 253.749445 115.92 \r\nL 256.823825 115.92 \r\nL 259.898205 115.92 \r\nL 262.972585 115.92 \r\nL 266.046965 115.92 \r\nL 269.121346 115.92 \r\nL 272.195726 115.92 \r\nL 275.270106 115.919999 \r\nL 278.344486 115.919996 \r\nL 281.418866 115.919988 \r\nL 284.493246 115.919964 \r\nL 287.567627 115.9199 \r\nL 290.642007 115.919732 \r\nL 293.716387 115.919307 \r\nL 296.790767 115.918277 \r\nL 299.865147 115.915875 \r\nL 302.939527 115.910498 \r\nL 306.013908 115.898935 \r\nL 309.088288 115.87506 \r\nL 312.162668 115.827739 \r\nL 315.237048 115.737742 \r\nL 318.311428 115.573566 \r\nL 321.385808 115.286438 \r\nL 324.460189 114.805258 \r\nL 327.534569 114.033056 \r\nL 330.608949 112.847324 \r\nL 333.683329 111.106841 \r\nL 336.757709 108.66761 \r\nL 339.832089 105.408847 \r\nL 342.90647 101.267133 \r\nL 345.98085 96.273882 \r\nL 349.05523 90.586273 \r\nL 352.12961 84.502405 \r\nL 355.20399 78.450118 \r\nL 358.27837 72.945262 \r\nL 361.352751 68.523154 \r\nL 364.427131 65.653463 \r\n\" style=\"fill:none;stroke:#ff7f0e;stroke-linecap:square;stroke-width:1.5;\"/>\r\n   </g>\r\n   <g id=\"patch_3\">\r\n    <path d=\"M 44.845313 224.64 \r\nL 44.845313 7.2 \r\n\" style=\"fill:none;stroke:#000000;stroke-linecap:square;stroke-linejoin:miter;stroke-width:0.8;\"/>\r\n   </g>\r\n   <g id=\"patch_4\">\r\n    <path d=\"M 379.645313 224.64 \r\nL 379.645313 7.2 \r\n\" style=\"fill:none;stroke:#000000;stroke-linecap:square;stroke-linejoin:miter;stroke-width:0.8;\"/>\r\n   </g>\r\n   <g id=\"patch_5\">\r\n    <path d=\"M 44.845313 224.64 \r\nL 379.645313 224.64 \r\n\" style=\"fill:none;stroke:#000000;stroke-linecap:square;stroke-linejoin:miter;stroke-width:0.8;\"/>\r\n   </g>\r\n   <g id=\"patch_6\">\r\n    <path d=\"M 44.845313 7.2 \r\nL 379.645313 7.2 \r\n\" style=\"fill:none;stroke:#000000;stroke-linecap:square;stroke-linejoin:miter;stroke-width:0.8;\"/>\r\n   </g>\r\n  </g>\r\n </g>\r\n <defs>\r\n  <clipPath id=\"p7f4dc19583\">\r\n   <rect height=\"217.44\" width=\"334.8\" x=\"44.845313\" y=\"7.2\"/>\r\n  </clipPath>\r\n </defs>\r\n</svg>\r\n",
            "image/png": "[encoded data removed]"
          },
          "metadata": {
            "needs_background": "light"
          }
        }
      ]
    },
    {
      "cell_type": "markdown",
      "metadata": {
        "id": "z0NUYaNIcwXD",
        "colab_type": "text"
      },
      "source": [
        "# En temps"
      ]
    },
    {
      "cell_type": "code",
      "metadata": {
        "id": "Gz2jzMt-cNrT",
        "colab_type": "code",
        "colab": {
          "base_uri": "https://localhost:8080/",
          "height": 286
        },
        "outputId": "426d9054-0529-4571-8dec-9ab1d698ae13"
      },
      "source": [
        "index = 0\n",
        "\n",
        "time_steps = df_time.loc[index, 'time_steps']\n",
        "t_final = df_time.loc[index, 't_final']\n",
        "dt = df_time.loc[index, 'dt']\n",
        "\n",
        "t = np.linspace(0, t_final+dt, time_steps)\n",
        "\n",
        "y = df_time.loc[index, 'E_right']\n",
        "y = np.array(ast.literal_eval(y))\n",
        "\n",
        "ax = plt.gca()\n",
        "ax.set_ylim([0, 1.05])\n",
        "ax.plot(t, y)"
      ],
      "execution_count": 2779,
      "outputs": [
        {
          "output_type": "execute_result",
          "data": {
            "text/plain": "[<matplotlib.lines.Line2D at 0x256e1bf51c8>]"
          },
          "metadata": {},
          "execution_count": 2779
        },
        {
          "output_type": "display_data",
          "data": {
            "text/plain": "<Figure size 432x288 with 1 Axes>",
            "image/svg+xml": "<?xml version=\"1.0\" encoding=\"utf-8\" standalone=\"no\"?>\r\n<!DOCTYPE svg PUBLIC \"-//W3C//DTD SVG 1.1//EN\"\r\n  \"http://www.w3.org/Graphics/SVG/1.1/DTD/svg11.dtd\">\r\n<!-- Created with matplotlib (https://matplotlib.org/) -->\r\n<svg height=\"248.518125pt\" version=\"1.1\" viewBox=\"0 0 372.103125 248.518125\" width=\"372.103125pt\" xmlns=\"http://www.w3.org/2000/svg\" xmlns:xlink=\"http://www.w3.org/1999/xlink\">\r\n <defs>\r\n  <style type=\"text/css\">\r\n*{stroke-linecap:butt;stroke-linejoin:round;}\r\n  </style>\r\n </defs>\r\n <g id=\"figure_1\">\r\n  <g id=\"patch_1\">\r\n   <path d=\"M 0 248.518125 \r\nL 372.103125 248.518125 \r\nL 372.103125 0 \r\nL 0 0 \r\nz\r\n\" style=\"fill:none;\"/>\r\n  </g>\r\n  <g id=\"axes_1\">\r\n   <g id=\"patch_2\">\r\n    <path d=\"M 30.103125 224.64 \r\nL 364.903125 224.64 \r\nL 364.903125 7.2 \r\nL 30.103125 7.2 \r\nz\r\n\" style=\"fill:#ffffff;\"/>\r\n   </g>\r\n   <g id=\"matplotlib.axis_1\">\r\n    <g id=\"xtick_1\">\r\n     <g id=\"line2d_1\">\r\n      <defs>\r\n       <path d=\"M 0 0 \r\nL 0 3.5 \r\n\" id=\"m4bc6442758\" style=\"stroke:#000000;stroke-width:0.8;\"/>\r\n      </defs>\r\n      <g>\r\n       <use style=\"stroke:#000000;stroke-width:0.8;\" x=\"45.321307\" xlink:href=\"#m4bc6442758\" y=\"224.64\"/>\r\n      </g>\r\n     </g>\r\n     <g id=\"text_1\">\r\n      <!-- 0.0 -->\r\n      <defs>\r\n       <path d=\"M 31.78125 66.40625 \r\nQ 24.171875 66.40625 20.328125 58.90625 \r\nQ 16.5 51.421875 16.5 36.375 \r\nQ 16.5 21.390625 20.328125 13.890625 \r\nQ 24.171875 6.390625 31.78125 6.390625 \r\nQ 39.453125 6.390625 43.28125 13.890625 \r\nQ 47.125 21.390625 47.125 36.375 \r\nQ 47.125 51.421875 43.28125 58.90625 \r\nQ 39.453125 66.40625 31.78125 66.40625 \r\nz\r\nM 31.78125 74.21875 \r\nQ 44.046875 74.21875 50.515625 64.515625 \r\nQ 56.984375 54.828125 56.984375 36.375 \r\nQ 56.984375 17.96875 50.515625 8.265625 \r\nQ 44.046875 -1.421875 31.78125 -1.421875 \r\nQ 19.53125 -1.421875 13.0625 8.265625 \r\nQ 6.59375 17.96875 6.59375 36.375 \r\nQ 6.59375 54.828125 13.0625 64.515625 \r\nQ 19.53125 74.21875 31.78125 74.21875 \r\nz\r\n\" id=\"DejaVuSans-48\"/>\r\n       <path d=\"M 10.6875 12.40625 \r\nL 21 12.40625 \r\nL 21 0 \r\nL 10.6875 0 \r\nz\r\n\" id=\"DejaVuSans-46\"/>\r\n      </defs>\r\n      <g transform=\"translate(37.369744 239.238437)scale(0.1 -0.1)\">\r\n       <use xlink:href=\"#DejaVuSans-48\"/>\r\n       <use x=\"63.623047\" xlink:href=\"#DejaVuSans-46\"/>\r\n       <use x=\"95.410156\" xlink:href=\"#DejaVuSans-48\"/>\r\n      </g>\r\n     </g>\r\n    </g>\r\n    <g id=\"xtick_2\">\r\n     <g id=\"line2d_2\">\r\n      <g>\r\n       <use style=\"stroke:#000000;stroke-width:0.8;\" x=\"105.012155\" xlink:href=\"#m4bc6442758\" y=\"224.64\"/>\r\n      </g>\r\n     </g>\r\n     <g id=\"text_2\">\r\n      <!-- 0.1 -->\r\n      <defs>\r\n       <path d=\"M 12.40625 8.296875 \r\nL 28.515625 8.296875 \r\nL 28.515625 63.921875 \r\nL 10.984375 60.40625 \r\nL 10.984375 69.390625 \r\nL 28.421875 72.90625 \r\nL 38.28125 72.90625 \r\nL 38.28125 8.296875 \r\nL 54.390625 8.296875 \r\nL 54.390625 0 \r\nL 12.40625 0 \r\nz\r\n\" id=\"DejaVuSans-49\"/>\r\n      </defs>\r\n      <g transform=\"translate(97.060593 239.238437)scale(0.1 -0.1)\">\r\n       <use xlink:href=\"#DejaVuSans-48\"/>\r\n       <use x=\"63.623047\" xlink:href=\"#DejaVuSans-46\"/>\r\n       <use x=\"95.410156\" xlink:href=\"#DejaVuSans-49\"/>\r\n      </g>\r\n     </g>\r\n    </g>\r\n    <g id=\"xtick_3\">\r\n     <g id=\"line2d_3\">\r\n      <g>\r\n       <use style=\"stroke:#000000;stroke-width:0.8;\" x=\"164.703004\" xlink:href=\"#m4bc6442758\" y=\"224.64\"/>\r\n      </g>\r\n     </g>\r\n     <g id=\"text_3\">\r\n      <!-- 0.2 -->\r\n      <defs>\r\n       <path d=\"M 19.1875 8.296875 \r\nL 53.609375 8.296875 \r\nL 53.609375 0 \r\nL 7.328125 0 \r\nL 7.328125 8.296875 \r\nQ 12.9375 14.109375 22.625 23.890625 \r\nQ 32.328125 33.6875 34.8125 36.53125 \r\nQ 39.546875 41.84375 41.421875 45.53125 \r\nQ 43.3125 49.21875 43.3125 52.78125 \r\nQ 43.3125 58.59375 39.234375 62.25 \r\nQ 35.15625 65.921875 28.609375 65.921875 \r\nQ 23.96875 65.921875 18.8125 64.3125 \r\nQ 13.671875 62.703125 7.8125 59.421875 \r\nL 7.8125 69.390625 \r\nQ 13.765625 71.78125 18.9375 73 \r\nQ 24.125 74.21875 28.421875 74.21875 \r\nQ 39.75 74.21875 46.484375 68.546875 \r\nQ 53.21875 62.890625 53.21875 53.421875 \r\nQ 53.21875 48.921875 51.53125 44.890625 \r\nQ 49.859375 40.875 45.40625 35.40625 \r\nQ 44.1875 33.984375 37.640625 27.21875 \r\nQ 31.109375 20.453125 19.1875 8.296875 \r\nz\r\n\" id=\"DejaVuSans-50\"/>\r\n      </defs>\r\n      <g transform=\"translate(156.751441 239.238437)scale(0.1 -0.1)\">\r\n       <use xlink:href=\"#DejaVuSans-48\"/>\r\n       <use x=\"63.623047\" xlink:href=\"#DejaVuSans-46\"/>\r\n       <use x=\"95.410156\" xlink:href=\"#DejaVuSans-50\"/>\r\n      </g>\r\n     </g>\r\n    </g>\r\n    <g id=\"xtick_4\">\r\n     <g id=\"line2d_4\">\r\n      <g>\r\n       <use style=\"stroke:#000000;stroke-width:0.8;\" x=\"224.393852\" xlink:href=\"#m4bc6442758\" y=\"224.64\"/>\r\n      </g>\r\n     </g>\r\n     <g id=\"text_4\">\r\n      <!-- 0.3 -->\r\n      <defs>\r\n       <path d=\"M 40.578125 39.3125 \r\nQ 47.65625 37.796875 51.625 33 \r\nQ 55.609375 28.21875 55.609375 21.1875 \r\nQ 55.609375 10.40625 48.1875 4.484375 \r\nQ 40.765625 -1.421875 27.09375 -1.421875 \r\nQ 22.515625 -1.421875 17.65625 -0.515625 \r\nQ 12.796875 0.390625 7.625 2.203125 \r\nL 7.625 11.71875 \r\nQ 11.71875 9.328125 16.59375 8.109375 \r\nQ 21.484375 6.890625 26.8125 6.890625 \r\nQ 36.078125 6.890625 40.9375 10.546875 \r\nQ 45.796875 14.203125 45.796875 21.1875 \r\nQ 45.796875 27.640625 41.28125 31.265625 \r\nQ 36.765625 34.90625 28.71875 34.90625 \r\nL 20.21875 34.90625 \r\nL 20.21875 43.015625 \r\nL 29.109375 43.015625 \r\nQ 36.375 43.015625 40.234375 45.921875 \r\nQ 44.09375 48.828125 44.09375 54.296875 \r\nQ 44.09375 59.90625 40.109375 62.90625 \r\nQ 36.140625 65.921875 28.71875 65.921875 \r\nQ 24.65625 65.921875 20.015625 65.03125 \r\nQ 15.375 64.15625 9.8125 62.3125 \r\nL 9.8125 71.09375 \r\nQ 15.4375 72.65625 20.34375 73.4375 \r\nQ 25.25 74.21875 29.59375 74.21875 \r\nQ 40.828125 74.21875 47.359375 69.109375 \r\nQ 53.90625 64.015625 53.90625 55.328125 \r\nQ 53.90625 49.265625 50.4375 45.09375 \r\nQ 46.96875 40.921875 40.578125 39.3125 \r\nz\r\n\" id=\"DejaVuSans-51\"/>\r\n      </defs>\r\n      <g transform=\"translate(216.44229 239.238437)scale(0.1 -0.1)\">\r\n       <use xlink:href=\"#DejaVuSans-48\"/>\r\n       <use x=\"63.623047\" xlink:href=\"#DejaVuSans-46\"/>\r\n       <use x=\"95.410156\" xlink:href=\"#DejaVuSans-51\"/>\r\n      </g>\r\n     </g>\r\n    </g>\r\n    <g id=\"xtick_5\">\r\n     <g id=\"line2d_5\">\r\n      <g>\r\n       <use style=\"stroke:#000000;stroke-width:0.8;\" x=\"284.084701\" xlink:href=\"#m4bc6442758\" y=\"224.64\"/>\r\n      </g>\r\n     </g>\r\n     <g id=\"text_5\">\r\n      <!-- 0.4 -->\r\n      <defs>\r\n       <path d=\"M 37.796875 64.3125 \r\nL 12.890625 25.390625 \r\nL 37.796875 25.390625 \r\nz\r\nM 35.203125 72.90625 \r\nL 47.609375 72.90625 \r\nL 47.609375 25.390625 \r\nL 58.015625 25.390625 \r\nL 58.015625 17.1875 \r\nL 47.609375 17.1875 \r\nL 47.609375 0 \r\nL 37.796875 0 \r\nL 37.796875 17.1875 \r\nL 4.890625 17.1875 \r\nL 4.890625 26.703125 \r\nz\r\n\" id=\"DejaVuSans-52\"/>\r\n      </defs>\r\n      <g transform=\"translate(276.133138 239.238437)scale(0.1 -0.1)\">\r\n       <use xlink:href=\"#DejaVuSans-48\"/>\r\n       <use x=\"63.623047\" xlink:href=\"#DejaVuSans-46\"/>\r\n       <use x=\"95.410156\" xlink:href=\"#DejaVuSans-52\"/>\r\n      </g>\r\n     </g>\r\n    </g>\r\n    <g id=\"xtick_6\">\r\n     <g id=\"line2d_6\">\r\n      <g>\r\n       <use style=\"stroke:#000000;stroke-width:0.8;\" x=\"343.775549\" xlink:href=\"#m4bc6442758\" y=\"224.64\"/>\r\n      </g>\r\n     </g>\r\n     <g id=\"text_6\">\r\n      <!-- 0.5 -->\r\n      <defs>\r\n       <path d=\"M 10.796875 72.90625 \r\nL 49.515625 72.90625 \r\nL 49.515625 64.59375 \r\nL 19.828125 64.59375 \r\nL 19.828125 46.734375 \r\nQ 21.96875 47.46875 24.109375 47.828125 \r\nQ 26.265625 48.1875 28.421875 48.1875 \r\nQ 40.625 48.1875 47.75 41.5 \r\nQ 54.890625 34.8125 54.890625 23.390625 \r\nQ 54.890625 11.625 47.5625 5.09375 \r\nQ 40.234375 -1.421875 26.90625 -1.421875 \r\nQ 22.3125 -1.421875 17.546875 -0.640625 \r\nQ 12.796875 0.140625 7.71875 1.703125 \r\nL 7.71875 11.625 \r\nQ 12.109375 9.234375 16.796875 8.0625 \r\nQ 21.484375 6.890625 26.703125 6.890625 \r\nQ 35.15625 6.890625 40.078125 11.328125 \r\nQ 45.015625 15.765625 45.015625 23.390625 \r\nQ 45.015625 31 40.078125 35.4375 \r\nQ 35.15625 39.890625 26.703125 39.890625 \r\nQ 22.75 39.890625 18.8125 39.015625 \r\nQ 14.890625 38.140625 10.796875 36.28125 \r\nz\r\n\" id=\"DejaVuSans-53\"/>\r\n      </defs>\r\n      <g transform=\"translate(335.823987 239.238437)scale(0.1 -0.1)\">\r\n       <use xlink:href=\"#DejaVuSans-48\"/>\r\n       <use x=\"63.623047\" xlink:href=\"#DejaVuSans-46\"/>\r\n       <use x=\"95.410156\" xlink:href=\"#DejaVuSans-53\"/>\r\n      </g>\r\n     </g>\r\n    </g>\r\n   </g>\r\n   <g id=\"matplotlib.axis_2\">\r\n    <g id=\"ytick_1\">\r\n     <g id=\"line2d_7\">\r\n      <defs>\r\n       <path d=\"M 0 0 \r\nL -3.5 0 \r\n\" id=\"mb917cc1b34\" style=\"stroke:#000000;stroke-width:0.8;\"/>\r\n      </defs>\r\n      <g>\r\n       <use style=\"stroke:#000000;stroke-width:0.8;\" x=\"30.103125\" xlink:href=\"#mb917cc1b34\" y=\"224.64\"/>\r\n      </g>\r\n     </g>\r\n     <g id=\"text_7\">\r\n      <!-- 0.0 -->\r\n      <g transform=\"translate(7.2 228.439219)scale(0.1 -0.1)\">\r\n       <use xlink:href=\"#DejaVuSans-48\"/>\r\n       <use x=\"63.623047\" xlink:href=\"#DejaVuSans-46\"/>\r\n       <use x=\"95.410156\" xlink:href=\"#DejaVuSans-48\"/>\r\n      </g>\r\n     </g>\r\n    </g>\r\n    <g id=\"ytick_2\">\r\n     <g id=\"line2d_8\">\r\n      <g>\r\n       <use style=\"stroke:#000000;stroke-width:0.8;\" x=\"30.103125\" xlink:href=\"#mb917cc1b34\" y=\"183.222857\"/>\r\n      </g>\r\n     </g>\r\n     <g id=\"text_8\">\r\n      <!-- 0.2 -->\r\n      <g transform=\"translate(7.2 187.022076)scale(0.1 -0.1)\">\r\n       <use xlink:href=\"#DejaVuSans-48\"/>\r\n       <use x=\"63.623047\" xlink:href=\"#DejaVuSans-46\"/>\r\n       <use x=\"95.410156\" xlink:href=\"#DejaVuSans-50\"/>\r\n      </g>\r\n     </g>\r\n    </g>\r\n    <g id=\"ytick_3\">\r\n     <g id=\"line2d_9\">\r\n      <g>\r\n       <use style=\"stroke:#000000;stroke-width:0.8;\" x=\"30.103125\" xlink:href=\"#mb917cc1b34\" y=\"141.805714\"/>\r\n      </g>\r\n     </g>\r\n     <g id=\"text_9\">\r\n      <!-- 0.4 -->\r\n      <g transform=\"translate(7.2 145.604933)scale(0.1 -0.1)\">\r\n       <use xlink:href=\"#DejaVuSans-48\"/>\r\n       <use x=\"63.623047\" xlink:href=\"#DejaVuSans-46\"/>\r\n       <use x=\"95.410156\" xlink:href=\"#DejaVuSans-52\"/>\r\n      </g>\r\n     </g>\r\n    </g>\r\n    <g id=\"ytick_4\">\r\n     <g id=\"line2d_10\">\r\n      <g>\r\n       <use style=\"stroke:#000000;stroke-width:0.8;\" x=\"30.103125\" xlink:href=\"#mb917cc1b34\" y=\"100.388571\"/>\r\n      </g>\r\n     </g>\r\n     <g id=\"text_10\">\r\n      <!-- 0.6 -->\r\n      <defs>\r\n       <path d=\"M 33.015625 40.375 \r\nQ 26.375 40.375 22.484375 35.828125 \r\nQ 18.609375 31.296875 18.609375 23.390625 \r\nQ 18.609375 15.53125 22.484375 10.953125 \r\nQ 26.375 6.390625 33.015625 6.390625 \r\nQ 39.65625 6.390625 43.53125 10.953125 \r\nQ 47.40625 15.53125 47.40625 23.390625 \r\nQ 47.40625 31.296875 43.53125 35.828125 \r\nQ 39.65625 40.375 33.015625 40.375 \r\nz\r\nM 52.59375 71.296875 \r\nL 52.59375 62.3125 \r\nQ 48.875 64.0625 45.09375 64.984375 \r\nQ 41.3125 65.921875 37.59375 65.921875 \r\nQ 27.828125 65.921875 22.671875 59.328125 \r\nQ 17.53125 52.734375 16.796875 39.40625 \r\nQ 19.671875 43.65625 24.015625 45.921875 \r\nQ 28.375 48.1875 33.59375 48.1875 \r\nQ 44.578125 48.1875 50.953125 41.515625 \r\nQ 57.328125 34.859375 57.328125 23.390625 \r\nQ 57.328125 12.15625 50.6875 5.359375 \r\nQ 44.046875 -1.421875 33.015625 -1.421875 \r\nQ 20.359375 -1.421875 13.671875 8.265625 \r\nQ 6.984375 17.96875 6.984375 36.375 \r\nQ 6.984375 53.65625 15.1875 63.9375 \r\nQ 23.390625 74.21875 37.203125 74.21875 \r\nQ 40.921875 74.21875 44.703125 73.484375 \r\nQ 48.484375 72.75 52.59375 71.296875 \r\nz\r\n\" id=\"DejaVuSans-54\"/>\r\n      </defs>\r\n      <g transform=\"translate(7.2 104.18779)scale(0.1 -0.1)\">\r\n       <use xlink:href=\"#DejaVuSans-48\"/>\r\n       <use x=\"63.623047\" xlink:href=\"#DejaVuSans-46\"/>\r\n       <use x=\"95.410156\" xlink:href=\"#DejaVuSans-54\"/>\r\n      </g>\r\n     </g>\r\n    </g>\r\n    <g id=\"ytick_5\">\r\n     <g id=\"line2d_11\">\r\n      <g>\r\n       <use style=\"stroke:#000000;stroke-width:0.8;\" x=\"30.103125\" xlink:href=\"#mb917cc1b34\" y=\"58.971429\"/>\r\n      </g>\r\n     </g>\r\n     <g id=\"text_11\">\r\n      <!-- 0.8 -->\r\n      <defs>\r\n       <path d=\"M 31.78125 34.625 \r\nQ 24.75 34.625 20.71875 30.859375 \r\nQ 16.703125 27.09375 16.703125 20.515625 \r\nQ 16.703125 13.921875 20.71875 10.15625 \r\nQ 24.75 6.390625 31.78125 6.390625 \r\nQ 38.8125 6.390625 42.859375 10.171875 \r\nQ 46.921875 13.96875 46.921875 20.515625 \r\nQ 46.921875 27.09375 42.890625 30.859375 \r\nQ 38.875 34.625 31.78125 34.625 \r\nz\r\nM 21.921875 38.8125 \r\nQ 15.578125 40.375 12.03125 44.71875 \r\nQ 8.5 49.078125 8.5 55.328125 \r\nQ 8.5 64.0625 14.71875 69.140625 \r\nQ 20.953125 74.21875 31.78125 74.21875 \r\nQ 42.671875 74.21875 48.875 69.140625 \r\nQ 55.078125 64.0625 55.078125 55.328125 \r\nQ 55.078125 49.078125 51.53125 44.71875 \r\nQ 48 40.375 41.703125 38.8125 \r\nQ 48.828125 37.15625 52.796875 32.3125 \r\nQ 56.78125 27.484375 56.78125 20.515625 \r\nQ 56.78125 9.90625 50.3125 4.234375 \r\nQ 43.84375 -1.421875 31.78125 -1.421875 \r\nQ 19.734375 -1.421875 13.25 4.234375 \r\nQ 6.78125 9.90625 6.78125 20.515625 \r\nQ 6.78125 27.484375 10.78125 32.3125 \r\nQ 14.796875 37.15625 21.921875 38.8125 \r\nz\r\nM 18.3125 54.390625 \r\nQ 18.3125 48.734375 21.84375 45.5625 \r\nQ 25.390625 42.390625 31.78125 42.390625 \r\nQ 38.140625 42.390625 41.71875 45.5625 \r\nQ 45.3125 48.734375 45.3125 54.390625 \r\nQ 45.3125 60.0625 41.71875 63.234375 \r\nQ 38.140625 66.40625 31.78125 66.40625 \r\nQ 25.390625 66.40625 21.84375 63.234375 \r\nQ 18.3125 60.0625 18.3125 54.390625 \r\nz\r\n\" id=\"DejaVuSans-56\"/>\r\n      </defs>\r\n      <g transform=\"translate(7.2 62.770647)scale(0.1 -0.1)\">\r\n       <use xlink:href=\"#DejaVuSans-48\"/>\r\n       <use x=\"63.623047\" xlink:href=\"#DejaVuSans-46\"/>\r\n       <use x=\"95.410156\" xlink:href=\"#DejaVuSans-56\"/>\r\n      </g>\r\n     </g>\r\n    </g>\r\n    <g id=\"ytick_6\">\r\n     <g id=\"line2d_12\">\r\n      <g>\r\n       <use style=\"stroke:#000000;stroke-width:0.8;\" x=\"30.103125\" xlink:href=\"#mb917cc1b34\" y=\"17.554286\"/>\r\n      </g>\r\n     </g>\r\n     <g id=\"text_12\">\r\n      <!-- 1.0 -->\r\n      <g transform=\"translate(7.2 21.353504)scale(0.1 -0.1)\">\r\n       <use xlink:href=\"#DejaVuSans-49\"/>\r\n       <use x=\"63.623047\" xlink:href=\"#DejaVuSans-46\"/>\r\n       <use x=\"95.410156\" xlink:href=\"#DejaVuSans-48\"/>\r\n      </g>\r\n     </g>\r\n    </g>\r\n   </g>\r\n   <g id=\"line2d_13\">\r\n    <path clip-path=\"url(#p989e633edf)\" d=\"M 45.321307 224.64 \r\nL 51.40858 224.64 \r\nL 57.495852 224.64 \r\nL 63.583125 224.64 \r\nL 69.670398 224.64 \r\nL 75.75767 224.64 \r\nL 81.844943 224.64 \r\nL 87.932216 224.64 \r\nL 94.019489 224.64 \r\nL 100.106761 224.64 \r\nL 106.194034 224.64 \r\nL 112.281307 224.64 \r\nL 118.36858 224.64 \r\nL 124.455852 224.64 \r\nL 130.543125 224.64 \r\nL 136.630398 224.64 \r\nL 142.71767 224.64 \r\nL 148.804943 224.64 \r\nL 154.892216 224.64 \r\nL 160.979489 224.639999 \r\nL 167.066761 224.639998 \r\nL 173.154034 224.639992 \r\nL 179.241307 224.639976 \r\nL 185.32858 224.639929 \r\nL 191.415852 224.639801 \r\nL 197.503125 224.63946 \r\nL 203.590398 224.638593 \r\nL 209.67767 224.636476 \r\nL 215.764943 224.631516 \r\nL 221.852216 224.620368 \r\nL 227.939489 224.596327 \r\nL 234.026761 224.546601 \r\nL 240.114034 224.447977 \r\nL 246.201307 224.260449 \r\nL 252.28858 223.91872 \r\nL 258.375852 223.322142 \r\nL 264.463125 222.324823 \r\nL 270.550398 220.729248 \r\nL 276.63767 218.287853 \r\nL 282.724943 214.718441 \r\nL 288.812216 209.737553 \r\nL 294.899489 203.11344 \r\nL 300.986761 194.734545 \r\nL 307.074034 184.681776 \r\nL 313.161307 173.286885 \r\nL 319.24858 161.15746 \r\nL 325.335852 149.149388 \r\nL 331.423125 138.280701 \r\nL 337.510398 129.594698 \r\nL 343.59767 123.996964 \r\nL 349.684943 122.098402 \r\n\" style=\"fill:none;stroke:#1f77b4;stroke-linecap:square;stroke-width:1.5;\"/>\r\n   </g>\r\n   <g id=\"patch_3\">\r\n    <path d=\"M 30.103125 224.64 \r\nL 30.103125 7.2 \r\n\" style=\"fill:none;stroke:#000000;stroke-linecap:square;stroke-linejoin:miter;stroke-width:0.8;\"/>\r\n   </g>\r\n   <g id=\"patch_4\">\r\n    <path d=\"M 364.903125 224.64 \r\nL 364.903125 7.2 \r\n\" style=\"fill:none;stroke:#000000;stroke-linecap:square;stroke-linejoin:miter;stroke-width:0.8;\"/>\r\n   </g>\r\n   <g id=\"patch_5\">\r\n    <path d=\"M 30.103125 224.64 \r\nL 364.903125 224.64 \r\n\" style=\"fill:none;stroke:#000000;stroke-linecap:square;stroke-linejoin:miter;stroke-width:0.8;\"/>\r\n   </g>\r\n   <g id=\"patch_6\">\r\n    <path d=\"M 30.103125 7.2 \r\nL 364.903125 7.2 \r\n\" style=\"fill:none;stroke:#000000;stroke-linecap:square;stroke-linejoin:miter;stroke-width:0.8;\"/>\r\n   </g>\r\n  </g>\r\n </g>\r\n <defs>\r\n  <clipPath id=\"p989e633edf\">\r\n   <rect height=\"217.44\" width=\"334.8\" x=\"30.103125\" y=\"7.2\"/>\r\n  </clipPath>\r\n </defs>\r\n</svg>\r\n",
            "image/png": "[encoded data removed]"
          },
          "metadata": {
            "needs_background": "light"
          }
        }
      ]
    },
    {
      "cell_type": "code",
      "execution_count": null,
      "metadata": {},
      "outputs": [],
      "source": []
    }
  ],
  "metadata": {
    "colab": {
      "name": "analyse_des_donnees.ipynb",
      "provenance": [],
      "collapsed_sections": []
    },
    "kernelspec": {
      "name": "python3",
      "display_name": "Python 3"
    }
  },
  "nbformat": 4,
  "nbformat_minor": 0
}