{
  "nbformat": 4,
  "nbformat_minor": 0,
  "metadata": {
    "colab": {
      "name": "reseaux_de_neurones.ipynb",
      "provenance": [],
      "collapsed_sections": []
    },
    "kernelspec": {
      "name": "python3",
      "display_name": "Python 3"
    }
  },
  "cells": [
    {
      "cell_type": "markdown",
      "metadata": {
        "id": "kPFD7mlSFqlG",
        "colab_type": "text"
      },
      "source": [
        "# Reseaux de neuronnes"
      ]
    }
  ]
}