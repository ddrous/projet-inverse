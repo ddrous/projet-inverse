{
 "cells": [
  {
   "cell_type": "markdown",
   "metadata": {
    "colab_type": "text",
    "id": "qxCUfRNWGGvi"
   },
   "source": [
    "# OBJECTF\n",
    "\n",
    "Predire $\\rho$, $\\sigma_a$ et $\\sigma_c$ en fonction de $E_r$, $F_r$, et $T_r$ a droite du domaine en toute temps "
   ]
  },
  {
   "cell_type": "markdown",
   "metadata": {
    "colab_type": "text",
    "id": "iNXZiUPPFgj7"
   },
   "source": [
    "# PREPARATION"
   ]
  },
  {
   "cell_type": "markdown",
   "metadata": {
    "colab_type": "text",
    "id": "Qkz6kUbigyJS"
   },
   "source": [
    "## Les imports"
   ]
  },
  {
   "cell_type": "code",
   "execution_count": 650,
   "metadata": {},
   "outputs": [],
   "source": [
    "%reset -f"
   ]
  },
  {
   "cell_type": "code",
   "execution_count": 651,
   "metadata": {
    "colab": {},
    "colab_type": "code",
    "id": "JtAq0O5XGELH"
   },
   "outputs": [],
   "source": [
    "import matplotlib.pyplot as plt\n",
    "import numpy as np\n",
    "import pandas as pd\n",
    "from ast import literal_eval as l_eval"
   ]
  },
  {
   "cell_type": "code",
   "execution_count": 882,
   "metadata": {},
   "outputs": [],
   "source": [
    "np.set_printoptions(precision = 3)"
   ]
  },
  {
   "cell_type": "markdown",
   "metadata": {
    "colab_type": "text",
    "id": "lCNMvubIgyJW"
   },
   "source": [
    "## Chargement des donnees"
   ]
  },
  {
   "cell_type": "code",
   "execution_count": 652,
   "metadata": {
    "colab": {
     "base_uri": "https://localhost:8080/",
     "height": 170
    },
    "colab_type": "code",
    "executionInfo": {
     "elapsed": 3284,
     "status": "ok",
     "timestamp": 1590103892148,
     "user": {
      "displayName": "desmond",
      "photoUrl": "https://lh6.googleusercontent.com/-5exToxTXVcA/AAAAAAAAAAI/AAAAAAAABrc/6MUOfJiC0-s/s64/photo.jpg",
      "userId": "10666133071162031678"
     },
     "user_tz": -120
    },
    "id": "HFYPlpRqF5tK",
    "outputId": "6929cbb8-3263-4ce0-e8fd-1c3cb1441aae"
   },
   "outputs": [],
   "source": [
    "# \"\"\" VERSION COLAB \"\"\"\n",
    "\n",
    "# # to load data from my personal github repo (update it if we have to)\n",
    "# import os\n",
    "# if not os.path.exists(\"assets\"):\n",
    "#     print(\"Data wansn't here. Let's download it!\")\n",
    "#     !git clone https://github.com/desmond-rn/assets.git\n",
    "# else:\n",
    "#     print(\"Data already here. Let's update it!\")\n",
    "#     %cd assets\n",
    "#     # %rm -rf assets\n",
    "#     !git pull https://github.com/desmond-rn/assets.git\n",
    "#     %cd ..\n",
    "\n",
    "# print(\"\\n\")\n",
    "# !ls assets/dataframes/inverse\n",
    "\n",
    "# df_path = \"assets/dataframes/inverse/df_temporal.csv\""
   ]
  },
  {
   "cell_type": "code",
   "execution_count": 653,
   "metadata": {
    "colab": {},
    "colab_type": "code",
    "id": "jEZZvk_igyJb"
   },
   "outputs": [
    {
     "name": "stdout",
     "output_type": "stream",
     "text": [
      " Volume in drive C has no label.\n",
      " Volume Serial Number is 2248-85E1\n",
      "\n",
      " Directory of C:\\Users\\Roussel\\Dropbox\\Unistra\\SEMESTRE 2\\Projet & Stage\\Inverse\\REPO\\data\n",
      "\n",
      "21-Jun-20  12:53 PM    <DIR>          .\n",
      "21-Jun-20  12:53 PM    <DIR>          ..\n",
      "21-Jun-20  12:53 PM    <DIR>          anim\n",
      "24-Jun-20  02:07 PM            14,895 case_1_spatial.csv\n",
      "24-Jun-20  02:07 PM            30,388 case_1_temporal.csv\n",
      "24-Jun-20  02:07 PM            10,946 case_2_spatial.csv\n",
      "24-Jun-20  02:07 PM            22,409 case_2_temporal.csv\n",
      "24-Jun-20  02:07 PM            10,901 case_3_spatial.csv\n",
      "21-Jun-20  12:53 PM            62,201 dataframe_1.csv\n",
      "21-Jun-20  12:53 PM            89,950 dataframe_2.csv\n",
      "21-Jun-20  12:53 PM             1,396 df_1.csv\n",
      "22-Jun-20  07:11 AM            47,585 df_1_test.csv\n",
      "21-Jun-20  12:53 PM             1,486 df_2.csv\n",
      "22-Jun-20  07:11 AM            54,818 df_2_test.csv\n",
      "24-Jun-20  02:07 PM         3,643,332 df_spatial.csv\n",
      "24-Jun-20  02:07 PM         4,813,222 df_temporal.csv\n",
      "21-Jun-20  12:53 PM            14,757 fichier_export_csv.csv\n",
      "21-Jun-20  12:53 PM    <DIR>          img\n",
      "21-Jun-20  12:53 PM    <DIR>          video\n",
      "              14 File(s)      8,818,286 bytes\n",
      "               5 Dir(s)  103,518,060,544 bytes free\n"
     ]
    }
   ],
   "source": [
    "# \"\"\" VERSION JUPYTER \"\"\"\n",
    "\n",
    "# to load data locally\n",
    "\n",
    "%ls \"../../data\"\n",
    "\n",
    "df_t_path = \"../../data/df_temporal.csv\"\n",
    "df_s_path = \"../../data/df_spatial.csv\""
   ]
  },
  {
   "cell_type": "markdown",
   "metadata": {
    "colab_type": "text",
    "id": "TWsovUL1xoqv"
   },
   "source": [
    "## Donnees temporelles"
   ]
  },
  {
   "cell_type": "code",
   "execution_count": 654,
   "metadata": {
    "colab": {
     "base_uri": "https://localhost:8080/",
     "height": 202
    },
    "colab_type": "code",
    "executionInfo": {
     "elapsed": 3552,
     "status": "ok",
     "timestamp": 1590103892462,
     "user": {
      "displayName": "desmond",
      "photoUrl": "https://lh6.googleusercontent.com/-5exToxTXVcA/AAAAAAAAAAI/AAAAAAAABrc/6MUOfJiC0-s/s64/photo.jpg",
      "userId": "10666133071162031678"
     },
     "user_tz": -120
    },
    "id": "CMlxB2ppa8IR",
    "outputId": "6de22b23-5193-4bd1-b685-30e5ea1f880a"
   },
   "outputs": [
    {
     "data": {
      "text/html": [
       "<div>\n",
       "<style scoped>\n",
       "    .dataframe tbody tr th:only-of-type {\n",
       "        vertical-align: middle;\n",
       "    }\n",
       "\n",
       "    .dataframe tbody tr th {\n",
       "        vertical-align: top;\n",
       "    }\n",
       "\n",
       "    .dataframe thead th {\n",
       "        text-align: right;\n",
       "    }\n",
       "</style>\n",
       "<table border=\"1\" class=\"dataframe\">\n",
       "  <thead>\n",
       "    <tr style=\"text-align: right;\">\n",
       "      <th></th>\n",
       "      <th>x_min</th>\n",
       "      <th>x_max</th>\n",
       "      <th>N</th>\n",
       "      <th>c</th>\n",
       "      <th>a</th>\n",
       "      <th>C_v</th>\n",
       "      <th>CFL</th>\n",
       "      <th>precision</th>\n",
       "      <th>t_0</th>\n",
       "      <th>t_f</th>\n",
       "      <th>...</th>\n",
       "      <th>T_0_expr</th>\n",
       "      <th>dt</th>\n",
       "      <th>step_count</th>\n",
       "      <th>t</th>\n",
       "      <th>E_l</th>\n",
       "      <th>F_l</th>\n",
       "      <th>T_l</th>\n",
       "      <th>E_r</th>\n",
       "      <th>F_r</th>\n",
       "      <th>T_r</th>\n",
       "    </tr>\n",
       "  </thead>\n",
       "  <tbody>\n",
       "    <tr>\n",
       "      <th>0</th>\n",
       "      <td>0</td>\n",
       "      <td>1</td>\n",
       "      <td>500</td>\n",
       "      <td>299</td>\n",
       "      <td>0.01372</td>\n",
       "      <td>0.14361</td>\n",
       "      <td>0.99</td>\n",
       "      <td>0.000001</td>\n",
       "      <td>0</td>\n",
       "      <td>0.005</td>\n",
       "      <td>...</td>\n",
       "      <td>5</td>\n",
       "      <td>0.000007</td>\n",
       "      <td>756</td>\n",
       "      <td>[0, 6.62207e-06, 1.32441e-05, 1.98662e-05, 2.6...</td>\n",
       "      <td>[8.575, 8.575, 8.67744, 8.78122, 8.88515, 8.98...</td>\n",
       "      <td>[0, 0, 0.101438, 0.204196, 0.306153, 0.407534,...</td>\n",
       "      <td>[5, 5, 5, 5.01444, 5.02936, 5.04419, 5.05882, ...</td>\n",
       "      <td>[8.575, 8.575, 8.575, 8.575, 8.575, 8.575, 8.5...</td>\n",
       "      <td>[0, 0, 0, 0, 0, 0, 0, 0, 0, 0, 0, 0, 0, 0, 0, ...</td>\n",
       "      <td>[5, 5, 5, 5, 5, 5, 5, 5, 5, 5, 5, 5, 5, 5, 5, ...</td>\n",
       "    </tr>\n",
       "    <tr>\n",
       "      <th>1</th>\n",
       "      <td>0</td>\n",
       "      <td>1</td>\n",
       "      <td>500</td>\n",
       "      <td>299</td>\n",
       "      <td>0.01372</td>\n",
       "      <td>0.14361</td>\n",
       "      <td>0.99</td>\n",
       "      <td>0.000001</td>\n",
       "      <td>0</td>\n",
       "      <td>0.005</td>\n",
       "      <td>...</td>\n",
       "      <td>5</td>\n",
       "      <td>0.000007</td>\n",
       "      <td>756</td>\n",
       "      <td>[0, 6.62207e-06, 1.32441e-05, 1.98662e-05, 2.6...</td>\n",
       "      <td>[8.575, 8.575, 8.67744, 8.78122, 8.88515, 8.98...</td>\n",
       "      <td>[0, 0, 0.101438, 0.204196, 0.306153, 0.407534,...</td>\n",
       "      <td>[5, 5, 5, 5.01444, 5.02936, 5.04419, 5.05882, ...</td>\n",
       "      <td>[8.575, 8.575, 8.575, 8.575, 8.575, 8.575, 8.5...</td>\n",
       "      <td>[0, 0, 0, 0, 0, 0, 0, 0, 0, 0, 0, 0, 0, 0, 0, ...</td>\n",
       "      <td>[5, 5, 5, 5, 5, 5, 5, 5, 5, 5, 5, 5, 5, 5, 5, ...</td>\n",
       "    </tr>\n",
       "  </tbody>\n",
       "</table>\n",
       "<p>2 rows × 25 columns</p>\n",
       "</div>"
      ],
      "text/plain": [
       "   x_min  x_max    N    c        a      C_v   CFL  precision  t_0    t_f  ...  \\\n",
       "0      0      1  500  299  0.01372  0.14361  0.99   0.000001    0  0.005  ...   \n",
       "1      0      1  500  299  0.01372  0.14361  0.99   0.000001    0  0.005  ...   \n",
       "\n",
       "  T_0_expr        dt step_count  \\\n",
       "0        5  0.000007        756   \n",
       "1        5  0.000007        756   \n",
       "\n",
       "                                                   t  \\\n",
       "0  [0, 6.62207e-06, 1.32441e-05, 1.98662e-05, 2.6...   \n",
       "1  [0, 6.62207e-06, 1.32441e-05, 1.98662e-05, 2.6...   \n",
       "\n",
       "                                                 E_l  \\\n",
       "0  [8.575, 8.575, 8.67744, 8.78122, 8.88515, 8.98...   \n",
       "1  [8.575, 8.575, 8.67744, 8.78122, 8.88515, 8.98...   \n",
       "\n",
       "                                                 F_l  \\\n",
       "0  [0, 0, 0.101438, 0.204196, 0.306153, 0.407534,...   \n",
       "1  [0, 0, 0.101438, 0.204196, 0.306153, 0.407534,...   \n",
       "\n",
       "                                                 T_l  \\\n",
       "0  [5, 5, 5, 5.01444, 5.02936, 5.04419, 5.05882, ...   \n",
       "1  [5, 5, 5, 5.01444, 5.02936, 5.04419, 5.05882, ...   \n",
       "\n",
       "                                                 E_r  \\\n",
       "0  [8.575, 8.575, 8.575, 8.575, 8.575, 8.575, 8.5...   \n",
       "1  [8.575, 8.575, 8.575, 8.575, 8.575, 8.575, 8.5...   \n",
       "\n",
       "                                                 F_r  \\\n",
       "0  [0, 0, 0, 0, 0, 0, 0, 0, 0, 0, 0, 0, 0, 0, 0, ...   \n",
       "1  [0, 0, 0, 0, 0, 0, 0, 0, 0, 0, 0, 0, 0, 0, 0, ...   \n",
       "\n",
       "                                                 T_r  \n",
       "0  [5, 5, 5, 5, 5, 5, 5, 5, 5, 5, 5, 5, 5, 5, 5, ...  \n",
       "1  [5, 5, 5, 5, 5, 5, 5, 5, 5, 5, 5, 5, 5, 5, 5, ...  \n",
       "\n",
       "[2 rows x 25 columns]"
      ]
     },
     "execution_count": 654,
     "metadata": {},
     "output_type": "execute_result"
    }
   ],
   "source": [
    "types = {'rho_expr':str, 'sigma_a_expr':str, 'sigma_c_expr':str, 'E_x_0_expr':str, 'F_x_0_expr':str, 'T_x_0_expr':str}\n",
    "converters={'t':l_eval, 'E_l':l_eval, 'F_l':l_eval, 'T_l':l_eval, 'E_r':l_eval, 'F_r':l_eval, 'T_r':l_eval}      # on veut convertir les str en listes\n",
    "\n",
    "df_t = pd.read_csv(df_t_path, thousands=',', dtype=types, converters=converters)\n",
    "\n",
    "df_t.head(2)"
   ]
  },
  {
   "cell_type": "markdown",
   "metadata": {
    "colab_type": "text",
    "id": "TWsovUL1xoqv"
   },
   "source": [
    "## Donnees spatiales"
   ]
  },
  {
   "cell_type": "code",
   "execution_count": 655,
   "metadata": {
    "colab": {
     "base_uri": "https://localhost:8080/",
     "height": 202
    },
    "colab_type": "code",
    "executionInfo": {
     "elapsed": 3552,
     "status": "ok",
     "timestamp": 1590103892462,
     "user": {
      "displayName": "desmond",
      "photoUrl": "https://lh6.googleusercontent.com/-5exToxTXVcA/AAAAAAAAAAI/AAAAAAAABrc/6MUOfJiC0-s/s64/photo.jpg",
      "userId": "10666133071162031678"
     },
     "user_tz": -120
    },
    "id": "CMlxB2ppa8IR",
    "outputId": "6de22b23-5193-4bd1-b685-30e5ea1f880a"
   },
   "outputs": [
    {
     "data": {
      "text/html": [
       "<div>\n",
       "<style scoped>\n",
       "    .dataframe tbody tr th:only-of-type {\n",
       "        vertical-align: middle;\n",
       "    }\n",
       "\n",
       "    .dataframe tbody tr th {\n",
       "        vertical-align: top;\n",
       "    }\n",
       "\n",
       "    .dataframe thead th {\n",
       "        text-align: right;\n",
       "    }\n",
       "</style>\n",
       "<table border=\"1\" class=\"dataframe\">\n",
       "  <thead>\n",
       "    <tr style=\"text-align: right;\">\n",
       "      <th></th>\n",
       "      <th>x_min</th>\n",
       "      <th>x_max</th>\n",
       "      <th>N</th>\n",
       "      <th>c</th>\n",
       "      <th>a</th>\n",
       "      <th>C_v</th>\n",
       "      <th>CFL</th>\n",
       "      <th>precision</th>\n",
       "      <th>t_0</th>\n",
       "      <th>t_f</th>\n",
       "      <th>...</th>\n",
       "      <th>x</th>\n",
       "      <th>rho</th>\n",
       "      <th>sigma_a</th>\n",
       "      <th>sigma_c</th>\n",
       "      <th>E_0</th>\n",
       "      <th>F_0</th>\n",
       "      <th>T_0</th>\n",
       "      <th>E_f</th>\n",
       "      <th>F_f</th>\n",
       "      <th>T_f</th>\n",
       "    </tr>\n",
       "  </thead>\n",
       "  <tbody>\n",
       "    <tr>\n",
       "      <th>0</th>\n",
       "      <td>0</td>\n",
       "      <td>1</td>\n",
       "      <td>500</td>\n",
       "      <td>299</td>\n",
       "      <td>0.01372</td>\n",
       "      <td>0.14361</td>\n",
       "      <td>0.99</td>\n",
       "      <td>0.000001</td>\n",
       "      <td>0</td>\n",
       "      <td>0.005</td>\n",
       "      <td>...</td>\n",
       "      <td>[0.001, 0.003, 0.005, 0.007, 0.009, 0.011, 0.0...</td>\n",
       "      <td>[1, 1, 1, 1, 1, 1, 1, 1, 1, 1, 1, 1, 1, 1, 1, ...</td>\n",
       "      <td>[4.96736, 4.9516, 4.93594, 4.92041, 4.90504, 4...</td>\n",
       "      <td>[4.96736, 4.9516, 4.93594, 4.92041, 4.90504, 4...</td>\n",
       "      <td>[8.575, 8.575, 8.575, 8.575, 8.575, 8.575, 8.5...</td>\n",
       "      <td>[0, 0, 0, 0, 0, 0, 0, 0, 0, 0, 0, 0, 0, 0, 0, ...</td>\n",
       "      <td>[5, 5, 5, 5, 5, 5, 5, 5, 5, 5, 5, 5, 5, 5, 5, ...</td>\n",
       "      <td>[8.45916, 8.35269, 8.2477, 8.14437, 8.04286, 7...</td>\n",
       "      <td>[0.10119, -0.0023666, -0.104948, -0.206385, -0...</td>\n",
       "      <td>[4.96736, 4.9516, 4.93594, 4.92041, 4.90504, 4...</td>\n",
       "    </tr>\n",
       "    <tr>\n",
       "      <th>1</th>\n",
       "      <td>0</td>\n",
       "      <td>1</td>\n",
       "      <td>500</td>\n",
       "      <td>299</td>\n",
       "      <td>0.01372</td>\n",
       "      <td>0.14361</td>\n",
       "      <td>0.99</td>\n",
       "      <td>0.000001</td>\n",
       "      <td>0</td>\n",
       "      <td>0.005</td>\n",
       "      <td>...</td>\n",
       "      <td>[0.001, 0.003, 0.005, 0.007, 0.009, 0.011, 0.0...</td>\n",
       "      <td>[1, 1, 1, 1, 1, 1, 1, 1, 1, 1, 1, 1, 1, 1, 1, ...</td>\n",
       "      <td>[4.96005, 4.94477, 4.92963, 4.91463, 4.89982, ...</td>\n",
       "      <td>[4.96005, 4.94477, 4.92963, 4.91463, 4.89982, ...</td>\n",
       "      <td>[8.575, 8.575, 8.575, 8.575, 8.575, 8.575, 8.5...</td>\n",
       "      <td>[0, 0, 0, 0, 0, 0, 0, 0, 0, 0, 0, 0, 0, 0, 0, ...</td>\n",
       "      <td>[5, 5, 5, 5, 5, 5, 5, 5, 5, 5, 5, 5, 5, 5, 5, ...</td>\n",
       "      <td>[8.41434, 8.31166, 8.21057, 8.11123, 8.01379, ...</td>\n",
       "      <td>[0.145578, 0.0377804, -0.069139, -0.175001, -0...</td>\n",
       "      <td>[4.96005, 4.94477, 4.92963, 4.91463, 4.89982, ...</td>\n",
       "    </tr>\n",
       "  </tbody>\n",
       "</table>\n",
       "<p>2 rows × 28 columns</p>\n",
       "</div>"
      ],
      "text/plain": [
       "   x_min  x_max    N    c        a      C_v   CFL  precision  t_0    t_f  ...  \\\n",
       "0      0      1  500  299  0.01372  0.14361  0.99   0.000001    0  0.005  ...   \n",
       "1      0      1  500  299  0.01372  0.14361  0.99   0.000001    0  0.005  ...   \n",
       "\n",
       "                                                   x  \\\n",
       "0  [0.001, 0.003, 0.005, 0.007, 0.009, 0.011, 0.0...   \n",
       "1  [0.001, 0.003, 0.005, 0.007, 0.009, 0.011, 0.0...   \n",
       "\n",
       "                                                 rho  \\\n",
       "0  [1, 1, 1, 1, 1, 1, 1, 1, 1, 1, 1, 1, 1, 1, 1, ...   \n",
       "1  [1, 1, 1, 1, 1, 1, 1, 1, 1, 1, 1, 1, 1, 1, 1, ...   \n",
       "\n",
       "                                             sigma_a  \\\n",
       "0  [4.96736, 4.9516, 4.93594, 4.92041, 4.90504, 4...   \n",
       "1  [4.96005, 4.94477, 4.92963, 4.91463, 4.89982, ...   \n",
       "\n",
       "                                             sigma_c  \\\n",
       "0  [4.96736, 4.9516, 4.93594, 4.92041, 4.90504, 4...   \n",
       "1  [4.96005, 4.94477, 4.92963, 4.91463, 4.89982, ...   \n",
       "\n",
       "                                                 E_0  \\\n",
       "0  [8.575, 8.575, 8.575, 8.575, 8.575, 8.575, 8.5...   \n",
       "1  [8.575, 8.575, 8.575, 8.575, 8.575, 8.575, 8.5...   \n",
       "\n",
       "                                                 F_0  \\\n",
       "0  [0, 0, 0, 0, 0, 0, 0, 0, 0, 0, 0, 0, 0, 0, 0, ...   \n",
       "1  [0, 0, 0, 0, 0, 0, 0, 0, 0, 0, 0, 0, 0, 0, 0, ...   \n",
       "\n",
       "                                                 T_0  \\\n",
       "0  [5, 5, 5, 5, 5, 5, 5, 5, 5, 5, 5, 5, 5, 5, 5, ...   \n",
       "1  [5, 5, 5, 5, 5, 5, 5, 5, 5, 5, 5, 5, 5, 5, 5, ...   \n",
       "\n",
       "                                                 E_f  \\\n",
       "0  [8.45916, 8.35269, 8.2477, 8.14437, 8.04286, 7...   \n",
       "1  [8.41434, 8.31166, 8.21057, 8.11123, 8.01379, ...   \n",
       "\n",
       "                                                 F_f  \\\n",
       "0  [0.10119, -0.0023666, -0.104948, -0.206385, -0...   \n",
       "1  [0.145578, 0.0377804, -0.069139, -0.175001, -0...   \n",
       "\n",
       "                                                 T_f  \n",
       "0  [4.96736, 4.9516, 4.93594, 4.92041, 4.90504, 4...  \n",
       "1  [4.96005, 4.94477, 4.92963, 4.91463, 4.89982, ...  \n",
       "\n",
       "[2 rows x 28 columns]"
      ]
     },
     "execution_count": 655,
     "metadata": {},
     "output_type": "execute_result"
    }
   ],
   "source": [
    "types = {'rho_expr':str, 'sigma_a_expr':str, 'sigma_c_expr':str, 'E_x_0_expr':str, 'F_x_0_expr':str, 'T_x_0_expr':str}\n",
    "converters={'x':l_eval, 'rho':l_eval, 'sigma_a':l_eval, 'sigma_c':l_eval, 'E_0':l_eval, 'F_0':l_eval, 'T_0':l_eval, 'E':l_eval, 'F':l_eval, 'T':l_eval}\n",
    "\n",
    "df_s = pd.read_csv(df_s_path, thousands=',', dtype=types, converters=converters)\n",
    "\n",
    "df_s.head(2)"
   ]
  },
  {
   "cell_type": "markdown",
   "metadata": {},
   "source": [
    "## Prerequis pour cet apprentissage"
   ]
  },
  {
   "cell_type": "markdown",
   "metadata": {
    "colab_type": "text",
    "id": "99gWfb-KtxHq"
   },
   "source": [
    "Tous les unputs doivent etre similaires sur un certain nombre de leurs parametres."
   ]
  },
  {
   "cell_type": "code",
   "execution_count": 656,
   "metadata": {},
   "outputs": [],
   "source": [
    "t_f = 0.005\n",
    "x_min = 0\n",
    "x_max = 1\n",
    "\n",
    "for i in range(len(df_t)):\n",
    "    assert df_t.loc[i, 't_f'] == 0.005\n",
    "    assert df_t.loc[i, 'E_0_expr'] == \"0.01372*(5^4)\"\n",
    "    # etc...\n",
    "    assert df_t.loc[i, 'x_min'] == x_min\n",
    "    assert df_t.loc[i, 'x_max'] == x_max\n"
   ]
  },
  {
   "cell_type": "markdown",
   "metadata": {
    "colab_type": "text",
    "id": "7vAh6z14br_a"
   },
   "source": [
    "## Visualisation"
   ]
  },
  {
   "cell_type": "code",
   "execution_count": 657,
   "metadata": {
    "colab": {},
    "colab_type": "code",
    "id": "6hA2czH1v6vS"
   },
   "outputs": [],
   "source": [
    "\"\"\" Visualisons les signaux sur la droite et la densite sur le domaine \"\"\"\n",
    "\n",
    "def plot_inputs(ax, df_t, index):\n",
    "    t = np.array(df_t.loc[index, 't'])\n",
    "    \n",
    "    # inputs\n",
    "    E_r = np.array(df_t.loc[index, 'E_r'])\n",
    "    F_r = np.array(df_t.loc[index, 'F_r'])\n",
    "    T_r = np.array(df_t.loc[index, 'T_r'])\n",
    "\n",
    "    # plot \n",
    "    ax[0].plot(t, E_r, 'b', label='énergie à droite', lw=3)\n",
    "    ax[0].set_ylim(8.275, 8.875)\n",
    "    ax[0].set_xlabel('t')\n",
    "    ax[0].legend()\n",
    "\n",
    "    ax[1].plot(t, F_r, 'y', label='flux à droite', lw=3)\n",
    "    ax[1].set_ylim(-0.25, 0.25)\n",
    "    ax[1].set_xlabel('t') \n",
    "    ax[1].legend()\n",
    "\n",
    "    ax[2].plot(t, T_r, 'r', label='température à droite', lw=3)\n",
    "    ax[2].set_ylim(4.96, 5.04)\n",
    "    ax[2].set_xlabel('t')\n",
    "    ax[2].legend()\n",
    "    \n",
    "def plot_output(ax, df_s, index):\n",
    "    x = np.array(df_s.loc[index, 'x'])\n",
    "    rho = np.array(df_s.loc[index, 'rho'])\n",
    "\n",
    "    # plot \n",
    "    ax.plot(x, rho, 'm--', label='densité')\n",
    "    ax.set_ylim(0.5, 10.5)\n",
    "    ax.set_xlabel('x')\n",
    "    ax.legend()"
   ]
  },
  {
   "cell_type": "code",
   "execution_count": 658,
   "metadata": {
    "colab": {},
    "colab_type": "code",
    "id": "lTPFBtJLbg-b",
    "scrolled": false
   },
   "outputs": [],
   "source": [
    "def plot_io(index):\n",
    "    fig, ax = plt.subplots(2, 3, figsize=(12, 6))\n",
    "    fig.delaxes(ax[1][0])\n",
    "    fig.delaxes(ax[1][2])\n",
    "\n",
    "    plot_inputs(ax[0], df_t, index)\n",
    "    plot_output(ax[1, 1], df_s, index)\n",
    "    plt.tight_layout()"
   ]
  },
  {
   "cell_type": "code",
   "execution_count": 659,
   "metadata": {},
   "outputs": [
    {
     "data": {
      "image/png": "[encoded data removed]",
      "text/plain": [
       "<Figure size 864x432 with 4 Axes>"
      ]
     },
     "metadata": {
      "needs_background": "light"
     },
     "output_type": "display_data"
    }
   ],
   "source": [
    "index = 0\n",
    "plot_io(index)"
   ]
  },
  {
   "cell_type": "markdown",
   "metadata": {},
   "source": [
    "## Creation des inputs X"
   ]
  },
  {
   "cell_type": "markdown",
   "metadata": {},
   "source": [
    "Pour chacun des signaux E_r, F_r et T_r, il faut tout d'abord:\n",
    "- Tronquer le signal pour ne ne garder que la fin\n",
    "- Reechantilloner le signal pour ne garder que 20, voir 50 pas de temps"
   ]
  },
  {
   "cell_type": "code",
   "execution_count": 660,
   "metadata": {
    "scrolled": true
   },
   "outputs": [],
   "source": [
    "\"\"\" Permet de couper le debut du signal, parite toujours constante. Retourne la fraction de fin \"\"\"\n",
    "def trim(input, ratio):\n",
    "    len_input = len(input)\n",
    "    len_output = int(len_input*ratio)\n",
    "    return input[len_input-len_output:]\n",
    "\n",
    "\"\"\" Fonction pour extraire n pas d'iterations \"\"\"\n",
    "def resample(input, len_output):\n",
    "    len_input = len(input)\n",
    "    output = []\n",
    "    for i in np.arange(0, len_input, len_input//len_output):\n",
    "        output.append(input[i])\n",
    "    return np.array(output)[1:]\n"
   ]
  },
  {
   "cell_type": "code",
   "execution_count": 661,
   "metadata": {},
   "outputs": [
    {
     "data": {
      "image/png": "[encoded data removed]",
      "text/plain": [
       "<Figure size 432x288 with 1 Axes>"
      ]
     },
     "metadata": {
      "needs_background": "light"
     },
     "output_type": "display_data"
    }
   ],
   "source": [
    "\"\"\" Testons avec un exemple \"\"\"\n",
    "t = np.array(df_t.loc[index, 't'])\n",
    "E_r = np.array(df_t.loc[index, 'E_r'])\n",
    "\n",
    "ratio, len_output = 1/2, 20\n",
    "t = resample(trim(t, ratio), len_output)\n",
    "E_r = resample(trim(E_r, ratio), len_output)\n",
    "\n",
    "fig, ax = plt.subplots(1, 1, figsize=(6, 4))\n",
    "ax.plot(t, E_r, 'b', label='énergie à droite coupé et reechantilloné', lw=3)\n",
    "ax.set_ylim(8.275, 8.875)\n",
    "ax.set_xlabel('t')\n",
    "ax.legend();"
   ]
  },
  {
   "cell_type": "code",
   "execution_count": 662,
   "metadata": {},
   "outputs": [
    {
     "name": "stdout",
     "output_type": "stream",
     "text": [
      "X shape = (103, 3, 20)\n"
     ]
    }
   ],
   "source": [
    "\"\"\" Generation les inputs X \"\"\"\n",
    "\n",
    "size = len(df_t)\n",
    "X = np.empty(shape=(size, 3, len_output), dtype=float)\n",
    "\n",
    "for i in range(size):\n",
    "    X[i][0] = resample(trim(df_t.loc[i, 'E_r'], ratio), len_output)\n",
    "    X[i][1] = resample(trim(df_t.loc[i, 'F_r'], ratio), len_output)\n",
    "    X[i][2] = resample(trim(df_t.loc[i, 'T_r'], ratio), len_output)\n",
    "    \n",
    "print(\"X shape =\", X.shape)"
   ]
  },
  {
   "cell_type": "markdown",
   "metadata": {},
   "source": [
    "## Creations des outputs y"
   ]
  },
  {
   "cell_type": "markdown",
   "metadata": {},
   "source": [
    "Pour le signal rho, il faut tout d'abord:\n",
    "- Detecter la position, la hauteur et la larrgeur de chaque crenau"
   ]
  },
  {
   "cell_type": "code",
   "execution_count": 663,
   "metadata": {},
   "outputs": [],
   "source": [
    "\"\"\" Calcule les decalages a droite et a gauche d'un signal \"\"\"\n",
    "def decay(signal):\n",
    "    signal_right = np.zeros_like(signal)\n",
    "    signal_right[1:] = signal[:-1]\n",
    "    signal_right[0] = signal[0]\n",
    "\n",
    "    signal_left = np.zeros_like(signal)\n",
    "    signal_left[:-1] = signal[1:]\n",
    "    signal_left[-1] = signal[-1]\n",
    "    \n",
    "    return signal_left, signal_right"
   ]
  },
  {
   "cell_type": "code",
   "execution_count": 873,
   "metadata": {},
   "outputs": [],
   "source": [
    "\"\"\" Fonction de lissage laplacien 3-means d'un signal \"\"\"\n",
    "def smooth(signal):\n",
    "    signal_left, signal_right = decay(signal)\n",
    "    return (signal + signal_left + signal_right) / 3."
   ]
  },
  {
   "cell_type": "code",
   "execution_count": 874,
   "metadata": {},
   "outputs": [],
   "source": [
    "\"\"\" Pour eliminer les tres tres faibles valeurs dans un signal \"\"\"\n",
    "def sharpen(signal, precision):\n",
    "    return np.where(abs(signal) < precision, np.zeros_like(signal), signal)"
   ]
  },
  {
   "cell_type": "code",
   "execution_count": 875,
   "metadata": {},
   "outputs": [],
   "source": [
    "\"\"\" Pour afficher un signal et sa derivee seconde \"\"\"\n",
    "def plot_signal(ax, signal):\n",
    "    signal_left, signal_right = decay(signal)\n",
    "    diff = -2*signal + signal_right + signal_left\n",
    "\n",
    "    diff = sharpen(diff, 1e-4)\n",
    "    \n",
    "    ax[0].plot(signal, 'm--', label='signal')\n",
    "    ax[1].plot(diff[1:-1], 'c--', label='derivee seconde du signal');\n",
    "    ax[0].legend()\n",
    "    ax[1].legend()"
   ]
  },
  {
   "cell_type": "code",
   "execution_count": 876,
   "metadata": {},
   "outputs": [],
   "source": [
    "\"\"\" Une fonction pour detecter la position, hauteur et largeur des crenaux \"\"\"\n",
    "def detect_niches(signal):\n",
    "    signal_left, signal_right = decay(signal)\n",
    "    diff = -2*signal + signal_right + signal_left\n",
    "    \n",
    "    diff = sharpen(diff, 1e-4)\n",
    "    \n",
    "    # zero_crossings = []        # les points de traverse du 0\n",
    "    niches = []                # les crenaux detectes\n",
    "    \n",
    "    prev = diff[0]\n",
    "    next = diff[2]\n",
    "\n",
    "    ended = False           # indique si on aretrouve la fin d'un crenau\n",
    "\n",
    "    start = 1\n",
    "    end = 1\n",
    "    \n",
    "    step = 1               # pas de recherche \n",
    "    i = step\n",
    "    len_signal = len(diff)\n",
    "    \n",
    "    while i < len_signal-step:\n",
    "        prev = diff[i-step]\n",
    "        val = diff[i]\n",
    "        next = diff[i+step]\n",
    "    \n",
    "        if prev > 0. and next < 0.:\n",
    "            # zero_crossings.append(i)\n",
    "            start = i\n",
    "            ended = False\n",
    "\n",
    "        if i == len_signal-step-1 and ended == False:\n",
    "            prev = -1.\n",
    "            next = 1.\n",
    "\n",
    "        if prev < 0. and next > 0. and ended==False:\n",
    "            # zero_crossings.append(i)\n",
    "            end = i\n",
    "    \n",
    "            niche_width = end - start                 # largeur relative a N = len_signal\n",
    "            niche_center = (end + start) // 2         # position relative a N\n",
    "            niche_height = signal[niche_center]       # hauteur du crenaux\n",
    "\n",
    "            niches.append((niche_center, niche_height, niche_width))\n",
    "\n",
    "            ended = True\n",
    "        \n",
    "#         print(i, ended)\n",
    "#         print(prev, next)\n",
    "\n",
    "        i += 1\n",
    "                \n",
    "    return niches"
   ]
  },
  {
   "cell_type": "code",
   "execution_count": 877,
   "metadata": {
    "scrolled": true
   },
   "outputs": [
    {
     "name": "stdout",
     "output_type": "stream",
     "text": [
      "Position, hauteur et largeur des creneaux detectes\n",
      " - (134, 5.0, 69)\n",
      " - (257, 2.804259852773157, 14)\n",
      " - (349, 9.999999999988198, 49)\n"
     ]
    },
    {
     "data": {
      "image/png": "[encoded data removed]",
      "text/plain": [
       "<Figure size 864x288 with 2 Axes>"
      ]
     },
     "metadata": {
      "needs_background": "light"
     },
     "output_type": "display_data"
    }
   ],
   "source": [
    "\"\"\" Testons avec un exemple \"\"\"\n",
    "signal = np.zeros(500)\n",
    "\n",
    "signal[100:170] = 5.         # ajout des crenaux\n",
    "signal[250:265] = 3.\n",
    "signal[325:375] = 10.\n",
    "\n",
    "for i in range(25):          # lissage du signal\n",
    "    signal = smooth(signal)\n",
    "\n",
    "fig, ax = plt.subplots(1, 2, figsize=(12, 4))\n",
    "plot_signal(ax, signal)\n",
    "\n",
    "niches = detect_niches(signal)\n",
    "\n",
    "print(\"Position, hauteur et largeur des creneaux detectes\")\n",
    "for el in niches:\n",
    "    print(\" -\", el)"
   ]
  },
  {
   "cell_type": "code",
   "execution_count": 878,
   "metadata": {},
   "outputs": [
    {
     "data": {
      "text/plain": [
       "' Testons sur un vrai rho '"
      ]
     },
     "execution_count": 878,
     "metadata": {},
     "output_type": "execute_result"
    }
   ],
   "source": [
    "\"\"\" Testons sur un vrai rho \"\"\"\n",
    "# signal = np.array(df_s.loc[4, 'rho'])\n",
    "# fig, ax = plt.subplots(1, 2, figsize=(12, 4))\n",
    "# plot_signal(ax, signal)\n",
    "\n",
    "# niches = detect_niches(signal)\n",
    "# for el in niches:\n",
    "#     print(\" -\", el)"
   ]
  },
  {
   "cell_type": "code",
   "execution_count": 893,
   "metadata": {},
   "outputs": [
    {
     "name": "stdout",
     "output_type": "stream",
     "text": [
      "y shape = (103, 3)\n"
     ]
    }
   ],
   "source": [
    "\"\"\" Pour creer les y, il faut normaliser par rapport a l'abcisse du domaine \"\"\"\n",
    "y = np.empty(shape=(size, 3), dtype=float)\n",
    "\n",
    "for i in range(size):\n",
    "    x = np.array(df_s.loc[i, 'x'])\n",
    "    rho = np.array(df_s.loc[i, 'rho'])\n",
    "    niche = detect_niches(rho)[0]          # on suppose qu'il ny a qu'un seul créneau \n",
    "    dx = (x_max - x_min) / df_s.loc[i, 'N']   # xmin = 0, xmax = 1 bien sur. condition necessaire pour cette etude\n",
    "\n",
    "    y[i][0] = x[niche[0]]                     # position relative a x\n",
    "    y[i][1] = niche[1]                        # hauteur\n",
    "    y[i][2] = niche[2]*dx                     # largeur\n",
    "    \n",
    "#     print(i, niche)\n",
    "#     print(i, y[i])\n",
    "\n",
    "print(\"y shape =\", np.shape(y))"
   ]
  },
  {
   "cell_type": "markdown",
   "metadata": {},
   "source": [
    "## Separation des donnees train, test et val"
   ]
  },
  {
   "cell_type": "code",
   "execution_count": 895,
   "metadata": {},
   "outputs": [
    {
     "name": "stdout",
     "output_type": "stream",
     "text": [
      "X shapes = (60, 3, 20) (20, 3, 20) (23, 3, 20)\n",
      "y shapes = (60, 3) (20, 3) (23, 3)\n"
     ]
    }
   ],
   "source": [
    "len_train, len_val = 60, 20\n",
    "\n",
    "X_train = X[:len_train]\n",
    "X_val = X[len_train:len_train+len_val]\n",
    "X_test = X[len_train+len_val:]\n",
    "\n",
    "y_train = y[:len_train]\n",
    "y_val = y[len_train:len_train+len_val]\n",
    "y_test = y[len_train+len_val:]\n",
    "\n",
    "print(\"X shapes =\", np.shape(X_train), np.shape(X_val), np.shape(X_test))\n",
    "print(\"y shapes =\", np.shape(y_train), np.shape(y_val), np.shape(y_test))"
   ]
  },
  {
   "cell_type": "markdown",
   "metadata": {},
   "source": [
    "# APPRENTISSAGE"
   ]
  }
 ],
 "metadata": {
  "colab": {
   "collapsed_sections": [],
   "name": "analyse_des_donnees.ipynb",
   "provenance": []
  },
  "kernelspec": {
   "display_name": "Python 3",
   "language": "python",
   "name": "python3"
  },
  "language_info": {
   "codemirror_mode": {
    "name": "ipython",
    "version": 3
   },
   "file_extension": ".py",
   "mimetype": "text/x-python",
   "name": "python",
   "nbconvert_exporter": "python",
   "pygments_lexer": "ipython3",
   "version": "3.7.6"
  }
 },
 "nbformat": 4,
 "nbformat_minor": 1
}
