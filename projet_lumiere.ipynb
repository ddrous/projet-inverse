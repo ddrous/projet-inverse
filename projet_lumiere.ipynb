{
 "nbformat": 4,
 "nbformat_minor": 2,
 "metadata": {
  "language_info": {
   "name": "python",
   "codemirror_mode": {
    "name": "ipython",
    "version": 3
   },
   "version": "3.7.6-final"
  },
  "orig_nbformat": 2,
  "file_extension": ".py",
  "mimetype": "text/x-python",
  "name": "python",
  "npconvert_exporter": "python",
  "pygments_lexer": "ipython3",
  "version": 3,
  "kernelspec": {
   "name": "python3",
   "display_name": "Python 3"
  }
 },
 "cells": [
  {
   "cell_type": "code",
   "execution_count": 1,
   "metadata": {},
   "outputs": [],
   "source": [
    "# Les import a faire\n",
    "import numpy as np\n",
    "import numpy.linalg as nplin\n",
    "import scipy as sp\n",
    "import scipy.sparse as spsp\n",
    "import scipy.sparse.linalg as spsplin\n",
    "import matplotlib.pyplot as plt"
   ]
  },
  {
   "cell_type": "markdown",
   "metadata": {},
   "source": [
    "On discrétise le domaine $[a; b]$ en N mailles (N + 1 points). Pour la maille j on note $x_j$\n",
    "le centre de maille, $\\Delta x$ (maillage uniforme) le volume de maille, $x_{j-\\frac{1}{2}}$\n",
    "et $x_{j+\\frac{1}{2}}$ les deux points frontière de la maille.  \n",
    "\n",
    "Pour ce faire, creons une classe \"Maille\". "
   ]
  },
  {
   "cell_type": "code",
   "execution_count": 13,
   "metadata": {},
   "outputs": [],
   "source": [
    "class Maille:\n",
    "    def __init__(self, a, b, N):\n",
    "        assert (a <= b)\n",
    "        assert (N <= 0)\n",
    "        self.a = a  \n",
    "        self.b = b\n",
    "        self.N = N\n",
    "        self.dx = (b-a)/N       # dx correspond a \\Delta x"
   ]
  },
  {
   "cell_type": "code",
   "execution_count": 22,
   "metadata": {},
   "outputs": [
    {
     "output_type": "stream",
     "name": "stdout",
     "text": "0 10\n<__main__.Maille object at 0x000002045F1E68C8>\n"
    }
   ],
   "source": [
    "a, b, N  = 0 , 10, 10 \n",
    "print (a, b)\n",
    "m1 = Maille(a, b, N)\n",
    "print(m1.__repr__())"
   ]
  },
  {
   "cell_type": "code",
   "execution_count": null,
   "metadata": {},
   "outputs": [],
   "source": []
  }
 ]
}